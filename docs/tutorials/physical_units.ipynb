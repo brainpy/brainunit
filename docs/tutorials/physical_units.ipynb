{
 "cells": [
  {
   "cell_type": "markdown",
   "metadata": {},
   "source": [
    "# Physical Units"
   ]
  },
  {
   "cell_type": "markdown",
   "metadata": {},
   "source": [
    "Braincore includes a system for physical units. The base units are defined by their standard SI unit names:\n",
    "`amp`/`ampere`, `kilogram`/`kilogramme`, `second`, `metre`/`meter`, `kilogram`, `mole`/`mol`, `kelvin`, and `candela`. In addition to these base units, braincore defines a set of derived units: `coulomb`, `farad`, `gram`/`gramme`, `hertz`, `joule`, `liter`/\n",
    "`litre`, `molar`, `pascal`, `ohm`,  `siemens`, `volt`, `watt`,\n",
    "together with prefixed versions (e.g. `msiemens = 0.001*siemens`) using the\n",
    "prefixes `p, n, u, m, k, M, G, T` (two exceptions to this rule: `kilogram`\n",
    "is not defined with any additional prefixes, and `metre` and `meter` are\n",
    "additionaly defined with the \"centi\" prefix, i.e. `cmetre`/`cmeter`).\n",
    "For convenience, a couple of additional useful standard abbreviations such as\n",
    "`cm` (instead of `cmetre`/`cmeter`), `nS` (instead of `nsiemens`),\n",
    "`ms` (instead of `msecond`), `Hz` (instead of `hertz`), `mM`\n",
    "(instead of `mmolar`) are included. To avoid clashes with common variable\n",
    "names, no one-letter abbreviations are provided (e.g. you can use `mV` or\n",
    "`nS`, but *not* `V` or `S`)."
   ]
  },
  {
   "cell_type": "markdown",
   "metadata": {},
   "source": [
    "## Importing units\n",
    "Braincore generates standard names for units, combining the unit name (e.g. “siemens”) with a prefixes (e.g. “m”), and also generates squared and cubed versions by appending a number. For example, the units “msiemens”, “siemens2”, “usiemens3” are all predefined. You can import these units from the package `briancore.units` – accordingly, an `from braincore.units import *` will result in everything being imported.\n",
    "\n",
    "We recommend importing only the units you need, to have a cleaner namespace. For example, `import braincore.units as U` and then using `bu.msiemens` instead of `msiemens`."
   ]
  },
  {
   "cell_type": "code",
   "execution_count": 1,
   "metadata": {
    "ExecuteTime": {
     "end_time": "2024-06-08T08:18:06.720762Z",
     "start_time": "2024-06-08T08:18:06.566328Z"
    }
   },
   "outputs": [],
   "source": [
    "import brainunit as bu"
   ]
  },
  {
   "cell_type": "markdown",
   "metadata": {},
   "source": [
    "## Using units\n",
    "You can generate a physical quantity by multiplying a scalar or ndarray with its physical unit:"
   ]
  },
  {
   "cell_type": "code",
   "execution_count": 2,
   "metadata": {},
   "outputs": [
    {
     "data": {
      "text/plain": [
       "20. * msecond"
      ]
     },
     "execution_count": 2,
     "metadata": {},
     "output_type": "execute_result"
    }
   ],
   "source": [
    "tau = 20 * bu.ms\n",
    "tau"
   ]
  },
  {
   "cell_type": "code",
   "execution_count": 3,
   "metadata": {},
   "outputs": [
    {
     "data": {
      "text/plain": [
       "ArrayImpl([10., 20., 30.], dtype=float32) * hertz"
      ]
     },
     "execution_count": 3,
     "metadata": {},
     "output_type": "execute_result"
    }
   ],
   "source": [
    "rates = [10, 20, 30] * bu.Hz\n",
    "rates"
   ]
  },
  {
   "cell_type": "code",
   "execution_count": 4,
   "metadata": {},
   "outputs": [
    {
     "data": {
      "text/plain": [
       "ArrayImpl([[10., 20., 30.],\n",
       "           [20., 30., 40.]], dtype=float32) * hertz"
      ]
     },
     "execution_count": 4,
     "metadata": {},
     "output_type": "execute_result"
    }
   ],
   "source": [
    "rates = [[10, 20, 30], [20, 30, 40]] * bu.Hz\n",
    "rates"
   ]
  },
  {
   "cell_type": "markdown",
   "metadata": {},
   "source": [
    "Braincore will check the consistency of operations on units and raise an error for dimensionality mismatches:"
   ]
  },
  {
   "cell_type": "code",
   "execution_count": 5,
   "metadata": {},
   "outputs": [
    {
     "name": "stdout",
     "output_type": "stream",
     "text": [
      "Cannot calculate ... += 1, units do not match (units are s and 1).\n"
     ]
    }
   ],
   "source": [
    "try:\n",
    "    tau += 1  # ms? second?\n",
    "except Exception as e:\n",
    "    print(e)"
   ]
  },
  {
   "cell_type": "code",
   "execution_count": 6,
   "metadata": {},
   "outputs": [
    {
     "name": "stdout",
     "output_type": "stream",
     "text": [
      "Cannot calculate 3.0 + 3.0, units do not match (units are kg and A).\n"
     ]
    }
   ],
   "source": [
    "try:\n",
    "    3 * bu.kgram + 3 * bu.amp\n",
    "except Exception as e:\n",
    "    print(e)"
   ]
  },
  {
   "cell_type": "markdown",
   "metadata": {},
   "source": []
  },
  {
   "cell_type": "markdown",
   "metadata": {},
   "source": [
    "## Basics\n",
    "Numpy functions have been overwritten to correctly work with units.\n",
    "\n",
    "The important attributes of a `Quantity` object are:\n",
    "- `value`: the numerical value of the quantity\n",
    "- `unit`: the unit of the quantity\n",
    "- `ndim`: the number of dimensions of quantity's value\n",
    "- `shape`: the shape of the quantity's value\n",
    "- `size`: the size of the quantity's value\n",
    "- `dtype`: the dtype of the quantity's value"
   ]
  },
  {
   "cell_type": "markdown",
   "metadata": {},
   "source": [
    "### An example"
   ]
  },
  {
   "cell_type": "code",
   "execution_count": 7,
   "metadata": {},
   "outputs": [
    {
     "data": {
      "text/plain": [
       "ArrayImpl([[10., 20., 30.],\n",
       "           [20., 30., 40.]], dtype=float32) * hertz"
      ]
     },
     "execution_count": 7,
     "metadata": {},
     "output_type": "execute_result"
    }
   ],
   "source": [
    "rates"
   ]
  },
  {
   "cell_type": "code",
   "execution_count": 8,
   "metadata": {},
   "outputs": [
    {
     "data": {
      "text/plain": [
       "Array([[10., 20., 30.],\n",
       "       [20., 30., 40.]], dtype=float32)"
      ]
     },
     "execution_count": 8,
     "metadata": {},
     "output_type": "execute_result"
    }
   ],
   "source": [
    "rates.value"
   ]
  },
  {
   "cell_type": "code",
   "execution_count": 9,
   "metadata": {},
   "outputs": [
    {
     "data": {
      "text/plain": [
       "second ** -1"
      ]
     },
     "execution_count": 9,
     "metadata": {},
     "output_type": "execute_result"
    }
   ],
   "source": [
    "rates.unit"
   ]
  },
  {
   "cell_type": "code",
   "execution_count": 10,
   "metadata": {},
   "outputs": [
    {
     "data": {
      "text/plain": [
       "(2, (2, 3), 6, dtype('float32'))"
      ]
     },
     "execution_count": 10,
     "metadata": {},
     "output_type": "execute_result"
    }
   ],
   "source": [
    "rates.ndim, rates.shape, rates.size, rates.dtype"
   ]
  },
  {
   "cell_type": "markdown",
   "metadata": {},
   "source": [
    "### Quantity Creation\n",
    "Creating a Quantity object can be accomplished in several ways, categorized based on the type of input used. Here, we present the methods grouped by their input types and characteristics for better clarity."
   ]
  },
  {
   "cell_type": "code",
   "execution_count": 11,
   "metadata": {},
   "outputs": [],
   "source": [
    "import jax.numpy as jnp\n",
    "import brainstate as bst\n",
    "bst.environ.set(precision=64) # we recommend using 64-bit precision for better numerical stability"
   ]
  },
  {
   "cell_type": "markdown",
   "metadata": {},
   "source": [
    "\n",
    "#### Scalar and Array Multiplication\n",
    "- Multiplying a Scalar with a Unit\n"
   ]
  },
  {
   "cell_type": "code",
   "execution_count": 12,
   "metadata": {},
   "outputs": [
    {
     "data": {
      "text/plain": [
       "5. * msecond"
      ]
     },
     "execution_count": 12,
     "metadata": {},
     "output_type": "execute_result"
    }
   ],
   "source": [
    "5 * bu.ms"
   ]
  },
  {
   "cell_type": "markdown",
   "metadata": {},
   "source": [
    "- Multiplying a Jax nunmpy value type with a Unit:"
   ]
  },
  {
   "cell_type": "code",
   "execution_count": 13,
   "metadata": {},
   "outputs": [
    {
     "data": {
      "text/plain": [
       "5. * msecond"
      ]
     },
     "execution_count": 13,
     "metadata": {},
     "output_type": "execute_result"
    }
   ],
   "source": [
    "jnp.float64(5) * bu.ms"
   ]
  },
  {
   "cell_type": "markdown",
   "metadata": {},
   "source": [
    "- Multiplying a Jax numpy array with a Unit:"
   ]
  },
  {
   "cell_type": "code",
   "execution_count": 14,
   "metadata": {},
   "outputs": [
    {
     "data": {
      "text/plain": [
       "ArrayImpl([1., 2., 3.]) * msecond"
      ]
     },
     "execution_count": 14,
     "metadata": {},
     "output_type": "execute_result"
    }
   ],
   "source": [
    "jnp.array([1, 2, 3]) * bu.ms"
   ]
  },
  {
   "cell_type": "markdown",
   "metadata": {},
   "source": [
    "- Multiplying a List with a Unit:"
   ]
  },
  {
   "cell_type": "code",
   "execution_count": 15,
   "metadata": {},
   "outputs": [
    {
     "data": {
      "text/plain": [
       "ArrayImpl([1., 2., 3.]) * msecond"
      ]
     },
     "execution_count": 15,
     "metadata": {},
     "output_type": "execute_result"
    }
   ],
   "source": [
    "[1, 2, 3] * bu.ms"
   ]
  },
  {
   "cell_type": "markdown",
   "metadata": {},
   "source": [
    "#### Direct Quantity Creation\n"
   ]
  },
  {
   "cell_type": "markdown",
   "metadata": {},
   "source": [
    "- Creating a Quantity Directly with a Value"
   ]
  },
  {
   "cell_type": "code",
   "execution_count": 16,
   "metadata": {},
   "outputs": [
    {
     "data": {
      "text/plain": [
       "Quantity(5.)"
      ]
     },
     "execution_count": 16,
     "metadata": {},
     "output_type": "execute_result"
    }
   ],
   "source": [
    "bu.Quantity(5)"
   ]
  },
  {
   "cell_type": "markdown",
   "metadata": {},
   "source": [
    "- Creating a Quantity Directly with a Value and Unit"
   ]
  },
  {
   "cell_type": "code",
   "execution_count": 18,
   "metadata": {},
   "outputs": [
    {
     "data": {
      "text/plain": [
       "5. * msecond"
      ]
     },
     "execution_count": 18,
     "metadata": {},
     "output_type": "execute_result"
    }
   ],
   "source": [
    "bu.Quantity(5, unit=bu.ms)"
   ]
  },
  {
   "cell_type": "markdown",
   "metadata": {},
   "source": [
    "- Creating a Quantity with a Jax numpy Array of Values and a Unit"
   ]
  },
  {
   "cell_type": "code",
   "execution_count": 19,
   "metadata": {},
   "outputs": [
    {
     "data": {
      "text/plain": [
       "ArrayImpl([1., 2., 3.]) * msecond"
      ]
     },
     "execution_count": 19,
     "metadata": {},
     "output_type": "execute_result"
    }
   ],
   "source": [
    "bu.Quantity(jnp.array([1, 2, 3]), unit=bu.ms)"
   ]
  },
  {
   "cell_type": "markdown",
   "metadata": {},
   "source": [
    "- Creating a Quantity with a List of Values and a Unit"
   ]
  },
  {
   "cell_type": "code",
   "execution_count": 20,
   "metadata": {},
   "outputs": [
    {
     "data": {
      "text/plain": [
       "ArrayImpl([1., 2., 3.]) * msecond"
      ]
     },
     "execution_count": 20,
     "metadata": {},
     "output_type": "execute_result"
    }
   ],
   "source": [
    "bu.Quantity([1, 2, 3], unit=bu.ms)"
   ]
  },
  {
   "cell_type": "markdown",
   "metadata": {},
   "source": [
    "- Creating a Quantity with a List of Quantities"
   ]
  },
  {
   "cell_type": "code",
   "execution_count": 21,
   "metadata": {},
   "outputs": [
    {
     "data": {
      "text/plain": [
       "ArrayImpl([0.5, 1. ]) * second"
      ]
     },
     "execution_count": 21,
     "metadata": {},
     "output_type": "execute_result"
    }
   ],
   "source": [
    "bu.Quantity([500 * bu.ms, 1 * bu.second])"
   ]
  },
  {
   "cell_type": "markdown",
   "metadata": {},
   "source": [
    "- Using the with_units Method"
   ]
  },
  {
   "cell_type": "code",
   "execution_count": 22,
   "metadata": {},
   "outputs": [
    {
     "data": {
      "text/plain": [
       "ArrayImpl([0.5, 1. ]) * second"
      ]
     },
     "execution_count": 22,
     "metadata": {},
     "output_type": "execute_result"
    }
   ],
   "source": [
    "bu.Quantity.with_units(jnp.array([0.5, 1]), second=1)"
   ]
  },
  {
   "cell_type": "markdown",
   "metadata": {},
   "source": [
    "#### Unitless Quantity\n",
    "Quantities can be unitless, which means they have no units. If there is no unit provided, the quantity is assumed to be unitless. The following are examples of creating unitless quantities:"
   ]
  },
  {
   "cell_type": "code",
   "execution_count": 23,
   "metadata": {},
   "outputs": [
    {
     "data": {
      "text/plain": [
       "Quantity(ArrayImpl([1., 2., 3.]))"
      ]
     },
     "execution_count": 23,
     "metadata": {},
     "output_type": "execute_result"
    }
   ],
   "source": [
    "bu.Quantity([1, 2, 3])"
   ]
  },
  {
   "cell_type": "code",
   "execution_count": 24,
   "metadata": {},
   "outputs": [
    {
     "data": {
      "text/plain": [
       "Quantity(ArrayImpl([1., 2., 3.]))"
      ]
     },
     "execution_count": 24,
     "metadata": {},
     "output_type": "execute_result"
    }
   ],
   "source": [
    "bu.Quantity(jnp.array([1, 2, 3]))"
   ]
  },
  {
   "cell_type": "code",
   "execution_count": 25,
   "metadata": {},
   "outputs": [
    {
     "data": {
      "text/plain": [
       "Quantity(ArrayImpl([], dtype=float64))"
      ]
     },
     "execution_count": 25,
     "metadata": {},
     "output_type": "execute_result"
    }
   ],
   "source": [
    "bu.Quantity([])"
   ]
  },
  {
   "cell_type": "markdown",
   "metadata": {},
   "source": [
    "#### Illegal Quantity Creation\n",
    "The following are examples of illegal quantity creation:"
   ]
  },
  {
   "cell_type": "code",
   "execution_count": 26,
   "metadata": {},
   "outputs": [
    {
     "name": "stdout",
     "output_type": "stream",
     "text": [
      "All elements must have the same unit\n"
     ]
    }
   ],
   "source": [
    "try:\n",
    "    bu.Quantity([500 * bu.ms, 1])\n",
    "except Exception as e:\n",
    "    print(e)"
   ]
  },
  {
   "cell_type": "code",
   "execution_count": 27,
   "metadata": {},
   "outputs": [
    {
     "name": "stdout",
     "output_type": "stream",
     "text": [
      "Value 'some' with dtype <U4 is not a valid JAX array type. Only arrays of numeric types are supported by JAX.\n"
     ]
    }
   ],
   "source": [
    "try:\n",
    "    bu.Quantity([\"some\", \"nonsense\"])\n",
    "except Exception as e:\n",
    "    print(e)"
   ]
  },
  {
   "cell_type": "code",
   "execution_count": 28,
   "metadata": {},
   "outputs": [
    {
     "name": "stdout",
     "output_type": "stream",
     "text": [
      "All elements must have the same unit\n"
     ]
    }
   ],
   "source": [
    "try:\n",
    "    bu.Quantity([500 * bu.ms, 1 * bu.volt])\n",
    "except Exception as e:\n",
    "    print(e)"
   ]
  },
  {
   "cell_type": "markdown",
   "metadata": {},
   "source": [
    "### Basic Operations\n",
    "Like Numpy and Jax numpy, arithmetic operators on arrays apply elementwise. A new array is created and filled with the result."
   ]
  },
  {
   "cell_type": "code",
   "execution_count": 29,
   "metadata": {},
   "outputs": [
    {
     "data": {
      "text/plain": [
       "ArrayImpl([0., 1., 2., 3.]) * mvolt"
      ]
     },
     "execution_count": 29,
     "metadata": {},
     "output_type": "execute_result"
    }
   ],
   "source": [
    "a = [20, 30, 40, 50] * bu.mV\n",
    "b = jnp.arange(4) * bu.mV\n",
    "b"
   ]
  },
  {
   "cell_type": "code",
   "execution_count": 30,
   "metadata": {},
   "outputs": [
    {
     "data": {
      "text/plain": [
       "ArrayImpl([20., 29., 38., 47.]) * mvolt"
      ]
     },
     "execution_count": 30,
     "metadata": {},
     "output_type": "execute_result"
    }
   ],
   "source": [
    "c = a - b\n",
    "c"
   ]
  },
  {
   "cell_type": "code",
   "execution_count": 31,
   "metadata": {},
   "outputs": [
    {
     "data": {
      "text/plain": [
       "ArrayImpl([0., 1., 4., 9.]) * mvolt2"
      ]
     },
     "execution_count": 31,
     "metadata": {},
     "output_type": "execute_result"
    }
   ],
   "source": [
    "b = b ** 2\n",
    "b"
   ]
  },
  {
   "cell_type": "code",
   "execution_count": 32,
   "metadata": {},
   "outputs": [
    {
     "data": {
      "text/plain": [
       "Array([ True,  True, False, False], dtype=bool)"
      ]
     },
     "execution_count": 32,
     "metadata": {},
     "output_type": "execute_result"
    }
   ],
   "source": [
    "a < 35 * bu.mV"
   ]
  },
  {
   "cell_type": "markdown",
   "metadata": {},
   "source": [
    "The product operator * operates elementwise in Quantity and the matrix product can be performed using the @ operator or the dot function or method:"
   ]
  },
  {
   "cell_type": "code",
   "execution_count": 33,
   "metadata": {},
   "outputs": [
    {
     "data": {
      "text/plain": [
       "ArrayImpl([[ 2.,  6.],\n",
       "           [12., 20.]]) * mvolt2"
      ]
     },
     "execution_count": 33,
     "metadata": {},
     "output_type": "execute_result"
    }
   ],
   "source": [
    "A = jnp.array([[1, 2], [3, 4]]) * bu.mV\n",
    "B = jnp.array([[2, 3], [4, 5]]) * bu.mV\n",
    "\n",
    "A * B"
   ]
  },
  {
   "cell_type": "code",
   "execution_count": 34,
   "metadata": {},
   "outputs": [
    {
     "data": {
      "text/plain": [
       "ArrayImpl([[10., 13.],\n",
       "           [22., 29.]]) * mvolt2"
      ]
     },
     "execution_count": 34,
     "metadata": {},
     "output_type": "execute_result"
    }
   ],
   "source": [
    "A @ B"
   ]
  },
  {
   "cell_type": "code",
   "execution_count": 35,
   "metadata": {},
   "outputs": [
    {
     "data": {
      "text/plain": [
       "ArrayImpl([[10., 13.],\n",
       "           [22., 29.]]) * mvolt2"
      ]
     },
     "execution_count": 35,
     "metadata": {},
     "output_type": "execute_result"
    }
   ],
   "source": [
    "A.dot(B)"
   ]
  },
  {
   "cell_type": "markdown",
   "metadata": {},
   "source": [
    "When operating with arrays of different types, the type of the resulting array corresponds to the more general or precise one"
   ]
  },
  {
   "cell_type": "code",
   "execution_count": 36,
   "metadata": {},
   "outputs": [
    {
     "data": {
      "text/plain": [
       "'float64'"
      ]
     },
     "execution_count": 36,
     "metadata": {},
     "output_type": "execute_result"
    }
   ],
   "source": [
    "a = jnp.ones(3, dtype=jnp.int32) * bu.mV\n",
    "b = jnp.linspace(0, jnp.pi, 3) * bu.mV\n",
    "\n",
    "b.dtype.name"
   ]
  },
  {
   "cell_type": "code",
   "execution_count": 37,
   "metadata": {
    "ExecuteTime": {
     "end_time": "2024-06-08T08:17:11.930344Z",
     "start_time": "2024-06-08T08:17:11.917832Z"
    }
   },
   "outputs": [
    {
     "data": {
      "text/plain": [
       "'float64'"
      ]
     },
     "execution_count": 37,
     "metadata": {},
     "output_type": "execute_result"
    }
   ],
   "source": [
    "c = a + b\n",
    "c.dtype.name"
   ]
  },
  {
   "cell_type": "markdown",
   "metadata": {},
   "source": [
    "Many unary operations, such as computing the sum of all the elements in the array, are implemented as methods of the Quantity class."
   ]
  },
  {
   "cell_type": "code",
   "execution_count": 38,
   "metadata": {
    "ExecuteTime": {
     "end_time": "2024-06-08T08:17:12.930783Z",
     "start_time": "2024-06-08T08:17:12.915631Z"
    }
   },
   "outputs": [
    {
     "data": {
      "text/plain": [
       "ArrayImpl([[0.6437081 , 0.66346343, 0.92401136],\n",
       "           [0.07923831, 0.78219192, 0.28288394]]) * mvolt"
      ]
     },
     "execution_count": 38,
     "metadata": {},
     "output_type": "execute_result"
    }
   ],
   "source": [
    "a = bst.random.random((2, 3)) * bu.mV\n",
    "a"
   ]
  },
  {
   "cell_type": "code",
   "execution_count": 39,
   "metadata": {
    "ExecuteTime": {
     "end_time": "2024-06-08T08:17:13.077406Z",
     "start_time": "2024-06-08T08:17:13.061209Z"
    }
   },
   "outputs": [
    {
     "data": {
      "text/plain": [
       "3.37549707 * mvolt"
      ]
     },
     "execution_count": 39,
     "metadata": {},
     "output_type": "execute_result"
    }
   ],
   "source": [
    "a.sum()"
   ]
  },
  {
   "cell_type": "code",
   "execution_count": 40,
   "metadata": {
    "ExecuteTime": {
     "end_time": "2024-06-08T08:17:13.173170Z",
     "start_time": "2024-06-08T08:17:13.154985Z"
    }
   },
   "outputs": [
    {
     "data": {
      "text/plain": [
       "79.23830773 * uvolt"
      ]
     },
     "execution_count": 40,
     "metadata": {},
     "output_type": "execute_result"
    }
   ],
   "source": [
    "a.min()"
   ]
  },
  {
   "cell_type": "code",
   "execution_count": 41,
   "metadata": {
    "ExecuteTime": {
     "end_time": "2024-06-08T08:17:13.258559Z",
     "start_time": "2024-06-08T08:17:13.245139Z"
    }
   },
   "outputs": [
    {
     "data": {
      "text/plain": [
       "0.92401136 * mvolt"
      ]
     },
     "execution_count": 41,
     "metadata": {},
     "output_type": "execute_result"
    }
   ],
   "source": [
    "a.max()"
   ]
  },
  {
   "cell_type": "markdown",
   "metadata": {},
   "source": [
    "By default, these operations apply to the array as though it were a list of numbers, regardless of its shape. However, by specifying the axis parameter you can apply an operation along the specified axis of a Quantity:"
   ]
  },
  {
   "cell_type": "code",
   "execution_count": 42,
   "metadata": {
    "ExecuteTime": {
     "end_time": "2024-06-08T08:17:13.317596Z",
     "start_time": "2024-06-08T08:17:13.303347Z"
    }
   },
   "outputs": [
    {
     "data": {
      "text/plain": [
       "ArrayImpl([[ 0.,  1.,  2.,  3.],\n",
       "           [ 4.,  5.,  6.,  7.],\n",
       "           [ 8.,  9., 10., 11.]]) * mvolt"
      ]
     },
     "execution_count": 42,
     "metadata": {},
     "output_type": "execute_result"
    }
   ],
   "source": [
    "b = jnp.arange(12).reshape(3, 4) * bu.mV\n",
    "b"
   ]
  },
  {
   "cell_type": "code",
   "execution_count": 43,
   "metadata": {
    "ExecuteTime": {
     "end_time": "2024-06-08T08:17:13.440592Z",
     "start_time": "2024-06-08T08:17:13.423512Z"
    }
   },
   "outputs": [
    {
     "data": {
      "text/plain": [
       "ArrayImpl([12., 15., 18., 21.]) * mvolt"
      ]
     },
     "execution_count": 43,
     "metadata": {},
     "output_type": "execute_result"
    }
   ],
   "source": [
    "b.sum(axis=0) # sum of each column"
   ]
  },
  {
   "cell_type": "code",
   "execution_count": 44,
   "metadata": {
    "ExecuteTime": {
     "end_time": "2024-06-08T08:17:13.508794Z",
     "start_time": "2024-06-08T08:17:13.493763Z"
    }
   },
   "outputs": [
    {
     "data": {
      "text/plain": [
       "ArrayImpl([0., 4., 8.]) * mvolt"
      ]
     },
     "execution_count": 44,
     "metadata": {},
     "output_type": "execute_result"
    }
   ],
   "source": [
    "b.min(axis=1) # min of each row"
   ]
  },
  {
   "cell_type": "code",
   "execution_count": 45,
   "metadata": {
    "ExecuteTime": {
     "end_time": "2024-06-08T08:17:13.635798Z",
     "start_time": "2024-06-08T08:17:13.623775Z"
    }
   },
   "outputs": [
    {
     "data": {
      "text/plain": [
       "ArrayImpl([[ 0.,  1.,  3.,  6.],\n",
       "           [ 4.,  9., 15., 22.],\n",
       "           [ 8., 17., 27., 38.]]) * mvolt"
      ]
     },
     "execution_count": 45,
     "metadata": {},
     "output_type": "execute_result"
    }
   ],
   "source": [
    "b.cumsum(axis=1) # cumulative sum along each row"
   ]
  },
  {
   "cell_type": "markdown",
   "metadata": {},
   "source": [
    "### Universal Functions\n",
    "Braincore provides familiar mathematical functions such as sin, cos, and exp. In braincore, these are called “universal functions” (ufunc). Within braincore, these functions operate elementwise on a Quantity, producing a Quantity as output.\n",
    "Attention: For some ufuncs, they only work with unitless quantities. If you want to know the category of a ufunc, you can check the `braincore.math.ufuncs.py`."
   ]
  },
  {
   "cell_type": "code",
   "execution_count": 46,
   "metadata": {
    "ExecuteTime": {
     "end_time": "2024-06-08T08:17:13.740123Z",
     "start_time": "2024-06-08T08:17:13.724137Z"
    }
   },
   "outputs": [
    {
     "data": {
      "text/plain": [
       "Quantity(ArrayImpl([0., 1., 2.]))"
      ]
     },
     "execution_count": 46,
     "metadata": {},
     "output_type": "execute_result"
    }
   ],
   "source": [
    "B = bu.Quantity(jnp.arange(3))\n",
    "B"
   ]
  },
  {
   "cell_type": "code",
   "execution_count": 47,
   "metadata": {
    "ExecuteTime": {
     "end_time": "2024-06-08T08:17:13.849402Z",
     "start_time": "2024-06-08T08:17:13.835550Z"
    }
   },
   "outputs": [
    {
     "data": {
      "text/plain": [
       "Array([1.        , 2.71828183, 7.3890561 ], dtype=float64)"
      ]
     },
     "execution_count": 47,
     "metadata": {},
     "output_type": "execute_result"
    }
   ],
   "source": [
    "bu.math.exp(B)"
   ]
  },
  {
   "cell_type": "code",
   "execution_count": 48,
   "metadata": {
    "ExecuteTime": {
     "end_time": "2024-06-08T08:17:13.916280Z",
     "start_time": "2024-06-08T08:17:13.899481Z"
    }
   },
   "outputs": [
    {
     "data": {
      "text/plain": [
       "Array([0.        , 1.        , 1.41421356], dtype=float64)"
      ]
     },
     "execution_count": 48,
     "metadata": {},
     "output_type": "execute_result"
    }
   ],
   "source": [
    "bu.math.sqrt(B)"
   ]
  },
  {
   "cell_type": "code",
   "execution_count": 49,
   "metadata": {
    "ExecuteTime": {
     "end_time": "2024-06-08T08:17:14.031528Z",
     "start_time": "2024-06-08T08:17:14.017580Z"
    }
   },
   "outputs": [
    {
     "data": {
      "text/plain": [
       "Quantity(ArrayImpl([0., 2., 4.]))"
      ]
     },
     "execution_count": 49,
     "metadata": {},
     "output_type": "execute_result"
    }
   ],
   "source": [
    "C = bu.Quantity(jnp.arange(3))\n",
    "bu.math.add(B, C)"
   ]
  },
  {
   "cell_type": "markdown",
   "metadata": {},
   "source": [
    "### Indexing, Slicing, and Iterating\n",
    "One-dimensional Quantity can be indexed, sliced and iterated over, much like lists and other Python sequences."
   ]
  },
  {
   "cell_type": "code",
   "execution_count": 50,
   "metadata": {
    "ExecuteTime": {
     "end_time": "2024-06-08T08:17:14.092294Z",
     "start_time": "2024-06-08T08:17:14.077645Z"
    }
   },
   "outputs": [
    {
     "data": {
      "text/plain": [
       "ArrayImpl([  0.,   1.,   8.,  27.,  64., 125., 216., 343., 512., 729.]) * mvolt"
      ]
     },
     "execution_count": 50,
     "metadata": {},
     "output_type": "execute_result"
    }
   ],
   "source": [
    "a = jnp.arange(10) ** 3 * bu.mV\n",
    "a"
   ]
  },
  {
   "cell_type": "code",
   "execution_count": 51,
   "metadata": {
    "ExecuteTime": {
     "end_time": "2024-06-08T08:17:14.246749Z",
     "start_time": "2024-06-08T08:17:14.233917Z"
    }
   },
   "outputs": [
    {
     "data": {
      "text/plain": [
       "8. * mvolt"
      ]
     },
     "execution_count": 51,
     "metadata": {},
     "output_type": "execute_result"
    }
   ],
   "source": [
    "a[2]"
   ]
  },
  {
   "cell_type": "code",
   "execution_count": 52,
   "metadata": {
    "ExecuteTime": {
     "end_time": "2024-06-08T08:17:14.336180Z",
     "start_time": "2024-06-08T08:17:14.323023Z"
    }
   },
   "outputs": [
    {
     "data": {
      "text/plain": [
       "ArrayImpl([ 8., 27., 64.]) * mvolt"
      ]
     },
     "execution_count": 52,
     "metadata": {},
     "output_type": "execute_result"
    }
   ],
   "source": [
    "a[2:5]"
   ]
  },
  {
   "cell_type": "markdown",
   "metadata": {},
   "source": [
    "Only same dimension Quantity can be set to a slice of a Quantity."
   ]
  },
  {
   "cell_type": "code",
   "execution_count": 53,
   "metadata": {
    "ExecuteTime": {
     "end_time": "2024-06-08T08:17:14.438363Z",
     "start_time": "2024-06-08T08:17:14.423077Z"
    }
   },
   "outputs": [
    {
     "data": {
      "text/plain": [
       "ArrayImpl([1000.,    1., 1000.,   27., 1000.,  125.,  216.,  343.,  512.,\n",
       "            729.]) * mvolt"
      ]
     },
     "execution_count": 53,
     "metadata": {},
     "output_type": "execute_result"
    }
   ],
   "source": [
    "# equivalent to a[0:6:2] = 1000;\n",
    "# from start to position 6, exclusive, set every 2nd element to 1000\n",
    "a[:6:2] = 1000 * bu.mV\n",
    "a"
   ]
  },
  {
   "cell_type": "code",
   "execution_count": 54,
   "metadata": {
    "ExecuteTime": {
     "end_time": "2024-06-08T08:17:14.497547Z",
     "start_time": "2024-06-08T08:17:14.484540Z"
    }
   },
   "outputs": [
    {
     "data": {
      "text/plain": [
       "ArrayImpl([ 729.,  512.,  343.,  216.,  125., 1000.,   27., 1000.,    1.,\n",
       "           1000.]) * mvolt"
      ]
     },
     "execution_count": 54,
     "metadata": {},
     "output_type": "execute_result"
    }
   ],
   "source": [
    "a[::-1] # reversed a"
   ]
  },
  {
   "cell_type": "code",
   "execution_count": 55,
   "metadata": {
    "ExecuteTime": {
     "end_time": "2024-06-08T08:17:14.641478Z",
     "start_time": "2024-06-08T08:17:14.626722Z"
    }
   },
   "outputs": [
    {
     "name": "stdout",
     "output_type": "stream",
     "text": [
      "1. m^0.6666666666666666 kg^0.3333333333333333 s^-1.0 A^-0.3333333333333333\n",
      "0.1 m^0.6666666666666666 kg^0.3333333333333333 s^-1.0 A^-0.3333333333333333\n",
      "1. m^0.6666666666666666 kg^0.3333333333333333 s^-1.0 A^-0.3333333333333333\n",
      "0.3 m^0.6666666666666666 kg^0.3333333333333333 s^-1.0 A^-0.3333333333333333\n",
      "1. m^0.6666666666666666 kg^0.3333333333333333 s^-1.0 A^-0.3333333333333333\n",
      "0.5 m^0.6666666666666666 kg^0.3333333333333333 s^-1.0 A^-0.3333333333333333\n",
      "0.6 m^0.6666666666666666 kg^0.3333333333333333 s^-1.0 A^-0.3333333333333333\n",
      "0.7 m^0.6666666666666666 kg^0.3333333333333333 s^-1.0 A^-0.3333333333333333\n",
      "0.8 m^0.6666666666666666 kg^0.3333333333333333 s^-1.0 A^-0.3333333333333333\n",
      "0.9 m^0.6666666666666666 kg^0.3333333333333333 s^-1.0 A^-0.3333333333333333\n"
     ]
    }
   ],
   "source": [
    "for i in a:\n",
    "    print(i**(1 / 3.))"
   ]
  },
  {
   "cell_type": "markdown",
   "metadata": {},
   "source": [
    "Multidimensional Quantity can have one index per axis. These indices are given in a tuple separated by commas:"
   ]
  },
  {
   "cell_type": "code",
   "execution_count": 56,
   "metadata": {
    "ExecuteTime": {
     "end_time": "2024-06-08T08:17:14.689531Z",
     "start_time": "2024-06-08T08:17:14.675521Z"
    }
   },
   "outputs": [
    {
     "data": {
      "text/plain": [
       "ArrayImpl([[ 0.,  1.,  2.,  3.],\n",
       "           [10., 11., 12., 13.],\n",
       "           [20., 21., 22., 23.],\n",
       "           [30., 31., 32., 33.],\n",
       "           [40., 41., 42., 43.]]) * mvolt"
      ]
     },
     "execution_count": 56,
     "metadata": {},
     "output_type": "execute_result"
    }
   ],
   "source": [
    "def f(x, y):\n",
    "    return 10 * x + y\n",
    "b = jnp.fromfunction(f, (5, 4), dtype=jnp.int32) * bu.mV\n",
    "b"
   ]
  },
  {
   "cell_type": "code",
   "execution_count": 57,
   "metadata": {
    "ExecuteTime": {
     "end_time": "2024-06-08T08:17:14.826661Z",
     "start_time": "2024-06-08T08:17:14.810619Z"
    }
   },
   "outputs": [
    {
     "data": {
      "text/plain": [
       "23. * mvolt"
      ]
     },
     "execution_count": 57,
     "metadata": {},
     "output_type": "execute_result"
    }
   ],
   "source": [
    "b[2, 3]"
   ]
  },
  {
   "cell_type": "code",
   "execution_count": 58,
   "metadata": {
    "ExecuteTime": {
     "end_time": "2024-06-08T08:17:14.904908Z",
     "start_time": "2024-06-08T08:17:14.890825Z"
    }
   },
   "outputs": [
    {
     "data": {
      "text/plain": [
       "ArrayImpl([ 1., 11., 21., 31., 41.]) * mvolt"
      ]
     },
     "execution_count": 58,
     "metadata": {},
     "output_type": "execute_result"
    }
   ],
   "source": [
    "b[0:5, 1]  # each row in the second column of b"
   ]
  },
  {
   "cell_type": "code",
   "execution_count": 59,
   "metadata": {
    "ExecuteTime": {
     "end_time": "2024-06-08T08:17:15.024474Z",
     "start_time": "2024-06-08T08:17:15.010562Z"
    }
   },
   "outputs": [
    {
     "data": {
      "text/plain": [
       "ArrayImpl([ 1., 11., 21., 31., 41.]) * mvolt"
      ]
     },
     "execution_count": 59,
     "metadata": {},
     "output_type": "execute_result"
    }
   ],
   "source": [
    "b[:, 1]  # equivalent to the previous example"
   ]
  },
  {
   "cell_type": "code",
   "execution_count": 60,
   "metadata": {
    "ExecuteTime": {
     "end_time": "2024-06-08T08:17:15.081864Z",
     "start_time": "2024-06-08T08:17:15.069946Z"
    }
   },
   "outputs": [
    {
     "data": {
      "text/plain": [
       "ArrayImpl([[10., 11., 12., 13.],\n",
       "           [20., 21., 22., 23.]]) * mvolt"
      ]
     },
     "execution_count": 60,
     "metadata": {},
     "output_type": "execute_result"
    }
   ],
   "source": [
    "b[1:3, :]  # each column in the second and third row of b"
   ]
  },
  {
   "cell_type": "markdown",
   "metadata": {},
   "source": [
    "When fewer indices are provided than the number of axes, the missing indices are considered complete slices:"
   ]
  },
  {
   "cell_type": "code",
   "execution_count": 61,
   "metadata": {
    "ExecuteTime": {
     "end_time": "2024-06-08T08:17:15.180883Z",
     "start_time": "2024-06-08T08:17:15.169438Z"
    }
   },
   "outputs": [
    {
     "data": {
      "text/plain": [
       "ArrayImpl([40., 41., 42., 43.]) * mvolt"
      ]
     },
     "execution_count": 61,
     "metadata": {},
     "output_type": "execute_result"
    }
   ],
   "source": [
    "b[-1]"
   ]
  },
  {
   "cell_type": "markdown",
   "metadata": {},
   "source": [
    "The expression within brackets in b[i] is treated as an i followed by as many instances of : as needed to represent the remaining axes. NumPy also allows you to write this using dots as b[i, ...].\n",
    "\n",
    "The dots (...) represent as many colons as needed to produce a complete indexing tuple. For example, if x is a Quantity with 5 axes, then\n",
    "- x[1, 2, ...] is equivalent to x[1, 2, :, :, :],\n",
    "- x[..., 3] to x[:, :, :, :, 3] and\n",
    "- x[4, ..., 5, :] to x[4, :, :, 5, :]."
   ]
  },
  {
   "cell_type": "code",
   "execution_count": 62,
   "metadata": {
    "ExecuteTime": {
     "end_time": "2024-06-08T08:17:15.237918Z",
     "start_time": "2024-06-08T08:17:15.224044Z"
    }
   },
   "outputs": [
    {
     "data": {
      "text/plain": [
       "(2, 2, 3)"
      ]
     },
     "execution_count": 62,
     "metadata": {},
     "output_type": "execute_result"
    }
   ],
   "source": [
    "c = jnp.array([[[0, 1, 2], [10, 12, 13]], [[100, 101, 102], [110, 112, 113]]]) * bu.mV # a 3D array (two stacked 2D arrays)\n",
    "c.shape"
   ]
  },
  {
   "cell_type": "code",
   "execution_count": 63,
   "metadata": {
    "ExecuteTime": {
     "end_time": "2024-06-08T08:17:15.378222Z",
     "start_time": "2024-06-08T08:17:15.364283Z"
    }
   },
   "outputs": [
    {
     "data": {
      "text/plain": [
       "ArrayImpl([[100., 101., 102.],\n",
       "           [110., 112., 113.]]) * mvolt"
      ]
     },
     "execution_count": 63,
     "metadata": {},
     "output_type": "execute_result"
    }
   ],
   "source": [
    "c[1, ...] # same as c[1, :, :] or c[1]"
   ]
  },
  {
   "cell_type": "code",
   "execution_count": 64,
   "metadata": {
    "ExecuteTime": {
     "end_time": "2024-06-08T08:17:15.483103Z",
     "start_time": "2024-06-08T08:17:15.467641Z"
    }
   },
   "outputs": [
    {
     "data": {
      "text/plain": [
       "ArrayImpl([[  2.,  13.],\n",
       "           [102., 113.]]) * mvolt"
      ]
     },
     "execution_count": 64,
     "metadata": {},
     "output_type": "execute_result"
    }
   ],
   "source": [
    "c[..., 2] # same as c[:, :, 2]"
   ]
  },
  {
   "cell_type": "markdown",
   "metadata": {},
   "source": [
    "Iterating over multidimensional Quantity is done with respect to the first axis:"
   ]
  },
  {
   "cell_type": "code",
   "execution_count": 65,
   "metadata": {
    "ExecuteTime": {
     "end_time": "2024-06-08T08:17:15.584500Z",
     "start_time": "2024-06-08T08:17:15.568297Z"
    }
   },
   "outputs": [
    {
     "name": "stdout",
     "output_type": "stream",
     "text": [
      "[0. 1. 2. 3.] mV\n",
      "[10. 11. 12. 13.] mV\n",
      "[20. 21. 22. 23.] mV\n",
      "[30. 31. 32. 33.] mV\n",
      "[40. 41. 42. 43.] mV\n"
     ]
    }
   ],
   "source": [
    "for row in b:\n",
    "    print(row)"
   ]
  },
  {
   "cell_type": "markdown",
   "metadata": {},
   "source": [
    "## Shape Manipulation\n",
    "### Changing the shape of a Quantity\n",
    "A Quantity has a shape given by the number of elements along each axis:"
   ]
  },
  {
   "cell_type": "code",
   "execution_count": 66,
   "metadata": {
    "ExecuteTime": {
     "end_time": "2024-06-08T08:17:15.643100Z",
     "start_time": "2024-06-08T08:17:15.628497Z"
    }
   },
   "outputs": [
    {
     "data": {
      "text/plain": [
       "ArrayImpl([[0., 8., 8., 9.],\n",
       "           [1., 6., 2., 0.],\n",
       "           [2., 0., 5., 0.]]) * mvolt"
      ]
     },
     "execution_count": 66,
     "metadata": {},
     "output_type": "execute_result"
    }
   ],
   "source": [
    "a = jnp.floor(10 * bst.random.random((3, 4))) * bu.mV\n",
    "a"
   ]
  },
  {
   "cell_type": "code",
   "execution_count": 67,
   "metadata": {
    "ExecuteTime": {
     "end_time": "2024-06-08T08:17:15.786100Z",
     "start_time": "2024-06-08T08:17:15.774172Z"
    }
   },
   "outputs": [
    {
     "data": {
      "text/plain": [
       "(3, 4)"
      ]
     },
     "execution_count": 67,
     "metadata": {},
     "output_type": "execute_result"
    }
   ],
   "source": [
    "a.shape"
   ]
  },
  {
   "cell_type": "markdown",
   "metadata": {},
   "source": [
    "The shape of a Quantity can be changed with various commands. Note that the following three commands all return a modified array, but do not change the original array:"
   ]
  },
  {
   "cell_type": "code",
   "execution_count": 68,
   "metadata": {
    "ExecuteTime": {
     "end_time": "2024-06-08T08:17:15.863373Z",
     "start_time": "2024-06-08T08:17:15.851908Z"
    }
   },
   "outputs": [
    {
     "data": {
      "text/plain": [
       "ArrayImpl([0., 8., 8., 9., 1., 6., 2., 0., 2., 0., 5., 0.]) * mvolt"
      ]
     },
     "execution_count": 68,
     "metadata": {},
     "output_type": "execute_result"
    }
   ],
   "source": [
    "a.ravel()  # returns the array, flattened"
   ]
  },
  {
   "cell_type": "code",
   "execution_count": 69,
   "metadata": {
    "ExecuteTime": {
     "end_time": "2024-06-08T08:17:15.984087Z",
     "start_time": "2024-06-08T08:17:15.972194Z"
    }
   },
   "outputs": [
    {
     "data": {
      "text/plain": [
       "ArrayImpl([[0., 8.],\n",
       "           [8., 9.],\n",
       "           [1., 6.],\n",
       "           [2., 0.],\n",
       "           [2., 0.],\n",
       "           [5., 0.]]) * mvolt"
      ]
     },
     "execution_count": 69,
     "metadata": {},
     "output_type": "execute_result"
    }
   ],
   "source": [
    "a.reshape(6, 2) # returns the array with a modified shape"
   ]
  },
  {
   "cell_type": "code",
   "execution_count": 70,
   "metadata": {
    "ExecuteTime": {
     "end_time": "2024-06-08T08:17:16.070664Z",
     "start_time": "2024-06-08T08:17:16.058519Z"
    }
   },
   "outputs": [
    {
     "data": {
      "text/plain": [
       "ArrayImpl([[0., 1., 2.],\n",
       "           [8., 6., 0.],\n",
       "           [8., 2., 5.],\n",
       "           [9., 0., 0.]]) * mvolt"
      ]
     },
     "execution_count": 70,
     "metadata": {},
     "output_type": "execute_result"
    }
   ],
   "source": [
    "a.T  # returns the array, transposed"
   ]
  },
  {
   "cell_type": "code",
   "execution_count": 71,
   "metadata": {
    "ExecuteTime": {
     "end_time": "2024-06-08T08:17:16.172288Z",
     "start_time": "2024-06-08T08:17:16.160362Z"
    }
   },
   "outputs": [
    {
     "data": {
      "text/plain": [
       "(4, 3)"
      ]
     },
     "execution_count": 71,
     "metadata": {},
     "output_type": "execute_result"
    }
   ],
   "source": [
    "a.T.shape"
   ]
  },
  {
   "cell_type": "code",
   "execution_count": 72,
   "metadata": {
    "ExecuteTime": {
     "end_time": "2024-06-08T08:17:16.238443Z",
     "start_time": "2024-06-08T08:17:16.224359Z"
    }
   },
   "outputs": [
    {
     "data": {
      "text/plain": [
       "(3, 4)"
      ]
     },
     "execution_count": 72,
     "metadata": {},
     "output_type": "execute_result"
    }
   ],
   "source": [
    "a.shape"
   ]
  },
  {
   "cell_type": "markdown",
   "metadata": {},
   "source": [
    "The order of the elements in the Quantity resulting from ravel is normally “C-style”, that is, the rightmost index “changes the fastest”, so the element after a[0, 0] is a[0, 1]. If the Quantity is reshaped to some other shape, again the Quantity is treated as “C-style”. NumPy normally creates arrays stored in this order, so ravel will usually not need to copy its argument, but if the Quantity was made by taking slices of another Quantity or created with unusual options, it may need to be copied. The functions ravel and reshape can also be instructed, using an optional argument, to use FORTRAN-style arrays, in which the leftmost index changes the fastest.\n",
    "\n",
    "The reshape function only returns its argument with a modified shape, due to Jax's immutability. The resize method is not available in braincore."
   ]
  },
  {
   "cell_type": "markdown",
   "metadata": {},
   "source": [
    "If a dimension is given as -1 in a reshaping operation, the other dimensions are automatically calculated:"
   ]
  },
  {
   "cell_type": "code",
   "execution_count": 73,
   "metadata": {
    "ExecuteTime": {
     "end_time": "2024-06-08T08:17:16.397219Z",
     "start_time": "2024-06-08T08:17:16.311537Z"
    }
   },
   "outputs": [
    {
     "data": {
      "text/plain": [
       "ArrayImpl([[0., 8., 8., 9.],\n",
       "           [1., 6., 2., 0.],\n",
       "           [2., 0., 5., 0.]]) * mvolt"
      ]
     },
     "execution_count": 73,
     "metadata": {},
     "output_type": "execute_result"
    }
   ],
   "source": [
    "a.reshape(3, -1)"
   ]
  },
  {
   "cell_type": "markdown",
   "metadata": {},
   "source": [
    "### Stacking together different arrays\n",
    "Several arrays can be stacked together along different axes:"
   ]
  },
  {
   "cell_type": "code",
   "execution_count": 74,
   "metadata": {
    "ExecuteTime": {
     "end_time": "2024-06-08T08:17:16.418810Z",
     "start_time": "2024-06-08T08:17:16.403141Z"
    }
   },
   "outputs": [
    {
     "data": {
      "text/plain": [
       "ArrayImpl([[9., 1.],\n",
       "           [0., 0.]]) * mvolt"
      ]
     },
     "execution_count": 74,
     "metadata": {},
     "output_type": "execute_result"
    }
   ],
   "source": [
    "a = jnp.floor(10 * bst.random.random((2, 2))) * bu.mV\n",
    "a"
   ]
  },
  {
   "cell_type": "code",
   "execution_count": 75,
   "metadata": {
    "ExecuteTime": {
     "end_time": "2024-06-08T08:17:16.579043Z",
     "start_time": "2024-06-08T08:17:16.565752Z"
    }
   },
   "outputs": [
    {
     "data": {
      "text/plain": [
       "ArrayImpl([[6., 3.],\n",
       "           [2., 9.]]) * mvolt"
      ]
     },
     "execution_count": 75,
     "metadata": {},
     "output_type": "execute_result"
    }
   ],
   "source": [
    "b = jnp.floor(10 * bst.random.random((2, 2))) * bu.mV\n",
    "b"
   ]
  },
  {
   "cell_type": "code",
   "execution_count": 76,
   "metadata": {
    "ExecuteTime": {
     "end_time": "2024-06-08T08:17:16.673916Z",
     "start_time": "2024-06-08T08:17:16.658982Z"
    }
   },
   "outputs": [
    {
     "data": {
      "text/plain": [
       "ArrayImpl([[9., 1.],\n",
       "           [0., 0.],\n",
       "           [6., 3.],\n",
       "           [2., 9.]]) * mvolt"
      ]
     },
     "execution_count": 76,
     "metadata": {},
     "output_type": "execute_result"
    }
   ],
   "source": [
    "bu.math.vstack((a, b))"
   ]
  },
  {
   "cell_type": "code",
   "execution_count": 77,
   "metadata": {
    "ExecuteTime": {
     "end_time": "2024-06-08T08:17:16.746660Z",
     "start_time": "2024-06-08T08:17:16.732009Z"
    }
   },
   "outputs": [
    {
     "data": {
      "text/plain": [
       "ArrayImpl([[9., 1., 6., 3.],\n",
       "           [0., 0., 2., 9.]]) * mvolt"
      ]
     },
     "execution_count": 77,
     "metadata": {},
     "output_type": "execute_result"
    }
   ],
   "source": [
    "bu.math.hstack((a, b))"
   ]
  },
  {
   "cell_type": "markdown",
   "metadata": {},
   "source": [
    "The function column_stack stacks 1D Quantities as columns into a 2D Quantities. It is equivalent to hstack only for 2D Quantities:"
   ]
  },
  {
   "cell_type": "code",
   "execution_count": 78,
   "metadata": {
    "ExecuteTime": {
     "end_time": "2024-06-08T08:17:16.847453Z",
     "start_time": "2024-06-08T08:17:16.835479Z"
    }
   },
   "outputs": [
    {
     "data": {
      "text/plain": [
       "ArrayImpl([[9., 1., 6., 3.],\n",
       "           [0., 0., 2., 9.]]) * mvolt"
      ]
     },
     "execution_count": 78,
     "metadata": {},
     "output_type": "execute_result"
    }
   ],
   "source": [
    "bu.math.column_stack((a, b)) # with 2D arrays"
   ]
  },
  {
   "cell_type": "code",
   "execution_count": 79,
   "metadata": {
    "ExecuteTime": {
     "end_time": "2024-06-08T08:17:16.933347Z",
     "start_time": "2024-06-08T08:17:16.919138Z"
    }
   },
   "outputs": [
    {
     "data": {
      "text/plain": [
       "ArrayImpl([[4., 2.],\n",
       "           [2., 8.]]) * mvolt"
      ]
     },
     "execution_count": 79,
     "metadata": {},
     "output_type": "execute_result"
    }
   ],
   "source": [
    "a = jnp.array([4., 2.]) * bu.mV\n",
    "b = jnp.array([2., 8.]) * bu.mV\n",
    "bu.math.column_stack((a, b)) # returns a 2D array"
   ]
  },
  {
   "cell_type": "code",
   "execution_count": 80,
   "metadata": {
    "ExecuteTime": {
     "end_time": "2024-06-08T08:17:17.086885Z",
     "start_time": "2024-06-08T08:17:17.074655Z"
    }
   },
   "outputs": [
    {
     "data": {
      "text/plain": [
       "ArrayImpl([4., 2., 2., 8.]) * mvolt"
      ]
     },
     "execution_count": 80,
     "metadata": {},
     "output_type": "execute_result"
    }
   ],
   "source": [
    "bu.math.hstack((a, b)) # the result is different"
   ]
  },
  {
   "cell_type": "code",
   "execution_count": 81,
   "metadata": {
    "ExecuteTime": {
     "end_time": "2024-06-08T08:17:17.150330Z",
     "start_time": "2024-06-08T08:17:17.137485Z"
    }
   },
   "outputs": [
    {
     "data": {
      "text/plain": [
       "ArrayImpl([[4.],\n",
       "           [2.]]) * mvolt"
      ]
     },
     "execution_count": 81,
     "metadata": {},
     "output_type": "execute_result"
    }
   ],
   "source": [
    "a[:, jnp.newaxis] # view `a` as a 2D column vector"
   ]
  },
  {
   "cell_type": "code",
   "execution_count": 82,
   "metadata": {
    "ExecuteTime": {
     "end_time": "2024-06-08T08:17:17.242410Z",
     "start_time": "2024-06-08T08:17:17.226299Z"
    }
   },
   "outputs": [
    {
     "data": {
      "text/plain": [
       "ArrayImpl([[4., 2.],\n",
       "           [2., 8.]]) * mvolt"
      ]
     },
     "execution_count": 82,
     "metadata": {},
     "output_type": "execute_result"
    }
   ],
   "source": [
    "bu.math.column_stack((a[:, jnp.newaxis], b[:, jnp.newaxis]))"
   ]
  },
  {
   "cell_type": "code",
   "execution_count": 83,
   "metadata": {
    "ExecuteTime": {
     "end_time": "2024-06-08T08:17:17.298740Z",
     "start_time": "2024-06-08T08:17:17.284862Z"
    }
   },
   "outputs": [
    {
     "data": {
      "text/plain": [
       "ArrayImpl([[4., 2.],\n",
       "           [2., 8.]]) * mvolt"
      ]
     },
     "execution_count": 83,
     "metadata": {},
     "output_type": "execute_result"
    }
   ],
   "source": [
    "bu.math.hstack((a[:, jnp.newaxis], b[:, jnp.newaxis])) # the result is the same"
   ]
  },
  {
   "cell_type": "markdown",
   "metadata": {},
   "source": [
    "### Splitting one Quantity into several smaller ones\n",
    "Using hsplit, you can split an array along its horizontal axis, either by specifying the number of equally shaped Quantities to return, or by specifying the columns after which the division should occur:"
   ]
  },
  {
   "cell_type": "code",
   "execution_count": 84,
   "metadata": {
    "ExecuteTime": {
     "end_time": "2024-06-08T08:17:17.392633Z",
     "start_time": "2024-06-08T08:17:17.378675Z"
    }
   },
   "outputs": [
    {
     "data": {
      "text/plain": [
       "ArrayImpl([[3., 6., 6., 8., 0., 0., 5., 8., 9., 1., 5., 1.],\n",
       "           [7., 3., 0., 2., 3., 9., 3., 7., 3., 4., 0., 8.]]) * mvolt"
      ]
     },
     "execution_count": 84,
     "metadata": {},
     "output_type": "execute_result"
    }
   ],
   "source": [
    "a = jnp.floor(10 * bst.random.random((2, 12))) * bu.mV\n",
    "a"
   ]
  },
  {
   "cell_type": "code",
   "execution_count": 85,
   "metadata": {
    "ExecuteTime": {
     "end_time": "2024-06-08T08:17:17.469052Z",
     "start_time": "2024-06-08T08:17:17.454110Z"
    }
   },
   "outputs": [
    {
     "data": {
      "text/plain": [
       "[ArrayImpl([[3., 6., 6., 8.],\n",
       "            [7., 3., 0., 2.]]) * mvolt,\n",
       " ArrayImpl([[0., 0., 5., 8.],\n",
       "            [3., 9., 3., 7.]]) * mvolt,\n",
       " ArrayImpl([[9., 1., 5., 1.],\n",
       "            [3., 4., 0., 8.]]) * mvolt]"
      ]
     },
     "execution_count": 85,
     "metadata": {},
     "output_type": "execute_result"
    }
   ],
   "source": [
    "bu.math.hsplit(a, 3) # Split a into 3"
   ]
  },
  {
   "cell_type": "code",
   "execution_count": 86,
   "metadata": {
    "ExecuteTime": {
     "end_time": "2024-06-08T08:17:17.603174Z",
     "start_time": "2024-06-08T08:17:17.590257Z"
    }
   },
   "outputs": [
    {
     "data": {
      "text/plain": [
       "[ArrayImpl([[3., 6., 6.],\n",
       "            [7., 3., 0.]]) * mvolt,\n",
       " ArrayImpl([[8.],\n",
       "            [2.]]) * mvolt,\n",
       " ArrayImpl([[0., 0., 5., 8., 9., 1., 5., 1.],\n",
       "            [3., 9., 3., 7., 3., 4., 0., 8.]]) * mvolt]"
      ]
     },
     "execution_count": 86,
     "metadata": {},
     "output_type": "execute_result"
    }
   ],
   "source": [
    "bu.math.hsplit(a, (3, 4)) # Split `a` after the third and the fourth column"
   ]
  },
  {
   "cell_type": "markdown",
   "metadata": {},
   "source": [
    "vsplit splits along the vertical axis, and array_split allows one to specify along which axis to split."
   ]
  },
  {
   "cell_type": "markdown",
   "metadata": {},
   "source": [
    "## Advanced Guide\n",
    "\n",
    "### Displaying Quantity\n",
    "Braincore provide `in_unit` method to display the Quantity in a specific unit. The following are examples of displaying Quantity in a specific unit:"
   ]
  },
  {
   "cell_type": "code",
   "execution_count": 87,
   "metadata": {
    "ExecuteTime": {
     "end_time": "2024-06-08T08:17:17.664616Z",
     "start_time": "2024-06-08T08:17:17.651627Z"
    }
   },
   "outputs": [
    {
     "data": {
      "text/plain": [
       "3. * volt"
      ]
     },
     "execution_count": 87,
     "metadata": {},
     "output_type": "execute_result"
    }
   ],
   "source": [
    "q = 3. * bu.volt\n",
    "q"
   ]
  },
  {
   "cell_type": "code",
   "execution_count": 88,
   "metadata": {
    "ExecuteTime": {
     "end_time": "2024-06-08T08:17:17.788887Z",
     "start_time": "2024-06-08T08:17:17.774669Z"
    }
   },
   "outputs": [
    {
     "data": {
      "text/plain": [
       "'3000. mV'"
      ]
     },
     "execution_count": 88,
     "metadata": {},
     "output_type": "execute_result"
    }
   ],
   "source": [
    "bu.in_unit(q, bu.mvolt)"
   ]
  },
  {
   "cell_type": "markdown",
   "metadata": {},
   "source": [
    "### Unary Operations\n",
    "The unary operations positive (+) ,negative (-), absolute (abs), and inversion (~) are supported:"
   ]
  },
  {
   "cell_type": "code",
   "execution_count": 89,
   "metadata": {
    "ExecuteTime": {
     "end_time": "2024-06-08T08:17:17.850100Z",
     "start_time": "2024-06-08T08:17:17.836718Z"
    }
   },
   "outputs": [
    {
     "data": {
      "text/plain": [
       "5. * mvolt"
      ]
     },
     "execution_count": 89,
     "metadata": {},
     "output_type": "execute_result"
    }
   ],
   "source": [
    "q = 5. * bu.mV\n",
    "q"
   ]
  },
  {
   "cell_type": "code",
   "execution_count": 90,
   "metadata": {
    "ExecuteTime": {
     "end_time": "2024-06-08T08:17:17.946008Z",
     "start_time": "2024-06-08T08:17:17.932601Z"
    }
   },
   "outputs": [
    {
     "data": {
      "text/plain": [
       "-5. * mvolt"
      ]
     },
     "execution_count": 90,
     "metadata": {},
     "output_type": "execute_result"
    }
   ],
   "source": [
    "q = -q\n",
    "q"
   ]
  },
  {
   "cell_type": "code",
   "execution_count": 91,
   "metadata": {
    "ExecuteTime": {
     "end_time": "2024-06-08T08:17:18.018108Z",
     "start_time": "2024-06-08T08:17:18.005084Z"
    }
   },
   "outputs": [
    {
     "data": {
      "text/plain": [
       "-5. * mvolt"
      ]
     },
     "execution_count": 91,
     "metadata": {},
     "output_type": "execute_result"
    }
   ],
   "source": [
    "q = +q\n",
    "q"
   ]
  },
  {
   "cell_type": "code",
   "execution_count": 92,
   "metadata": {
    "ExecuteTime": {
     "end_time": "2024-06-08T08:17:18.153598Z",
     "start_time": "2024-06-08T08:17:18.139911Z"
    }
   },
   "outputs": [
    {
     "data": {
      "text/plain": [
       "5. * mvolt"
      ]
     },
     "execution_count": 92,
     "metadata": {},
     "output_type": "execute_result"
    }
   ],
   "source": [
    "q = abs(q)\n",
    "q"
   ]
  },
  {
   "cell_type": "code",
   "execution_count": 93,
   "metadata": {
    "ExecuteTime": {
     "end_time": "2024-06-08T08:17:18.200189Z",
     "start_time": "2024-06-08T08:17:18.184689Z"
    }
   },
   "outputs": [
    {
     "data": {
      "text/plain": [
       "(Quantity(5.), Quantity(-6.))"
      ]
     },
     "execution_count": 93,
     "metadata": {},
     "output_type": "execute_result"
    }
   ],
   "source": [
    "q1 = bu.Quantity(0b101)\n",
    "q2 = bu.Quantity(-0b110)\n",
    "q1, q2"
   ]
  },
  {
   "cell_type": "code",
   "execution_count": 94,
   "metadata": {
    "ExecuteTime": {
     "end_time": "2024-06-08T08:17:18.300811Z",
     "start_time": "2024-06-08T08:17:18.286532Z"
    }
   },
   "outputs": [
    {
     "data": {
      "text/plain": [
       "(Quantity(-6.), Quantity(5.))"
      ]
     },
     "execution_count": 94,
     "metadata": {},
     "output_type": "execute_result"
    }
   ],
   "source": [
    "~q1, ~q2"
   ]
  },
  {
   "cell_type": "markdown",
   "metadata": {},
   "source": [
    "### Comparison\n",
    "The comparison operators (<, <=, ==, !=, >, >=) are supported:"
   ]
  },
  {
   "cell_type": "code",
   "execution_count": 95,
   "metadata": {
    "ExecuteTime": {
     "end_time": "2024-06-08T08:17:18.350568Z",
     "start_time": "2024-06-08T08:17:18.335369Z"
    }
   },
   "outputs": [
    {
     "data": {
      "text/plain": [
       "(ArrayImpl([10., 12., 14., 16., 18.]) * mvolt,\n",
       " ArrayImpl([ 8., 12., 16., 20., 24.]) * mvolt)"
      ]
     },
     "execution_count": 95,
     "metadata": {},
     "output_type": "execute_result"
    }
   ],
   "source": [
    "q1 = jnp.arange(10, 20, 2) * bu.mV\n",
    "q2 = jnp.arange(8, 27, 4) * bu.mV\n",
    "q1, q2"
   ]
  },
  {
   "cell_type": "code",
   "execution_count": 96,
   "metadata": {
    "ExecuteTime": {
     "end_time": "2024-06-08T08:17:18.463131Z",
     "start_time": "2024-06-08T08:17:18.448183Z"
    }
   },
   "outputs": [
    {
     "data": {
      "text/plain": [
       "(Array([False,  True, False, False, False], dtype=bool),\n",
       " Array([ True, False,  True,  True,  True], dtype=bool))"
      ]
     },
     "execution_count": 96,
     "metadata": {},
     "output_type": "execute_result"
    }
   ],
   "source": [
    "q1 == q2, q1 != q2"
   ]
  },
  {
   "cell_type": "code",
   "execution_count": 97,
   "metadata": {
    "ExecuteTime": {
     "end_time": "2024-06-08T08:17:18.536630Z",
     "start_time": "2024-06-08T08:17:18.523328Z"
    }
   },
   "outputs": [
    {
     "data": {
      "text/plain": [
       "(Array([False, False,  True,  True,  True], dtype=bool),\n",
       " Array([False,  True,  True,  True,  True], dtype=bool))"
      ]
     },
     "execution_count": 97,
     "metadata": {},
     "output_type": "execute_result"
    }
   ],
   "source": [
    "q1 < q2, q1 <= q2"
   ]
  },
  {
   "cell_type": "code",
   "execution_count": 98,
   "metadata": {
    "ExecuteTime": {
     "end_time": "2024-06-08T08:17:18.658605Z",
     "start_time": "2024-06-08T08:17:18.644318Z"
    }
   },
   "outputs": [
    {
     "data": {
      "text/plain": [
       "(Array([ True, False, False, False, False], dtype=bool),\n",
       " Array([ True,  True, False, False, False], dtype=bool))"
      ]
     },
     "execution_count": 98,
     "metadata": {},
     "output_type": "execute_result"
    }
   ],
   "source": [
    "q1 > q2, q1 >= q2"
   ]
  },
  {
   "cell_type": "markdown",
   "metadata": {},
   "source": [
    "### Binary Operations\n",
    "The binary operations add (+), subtract (-), multiply (*), divide (/), floor divide (//), remainder (%), divmod (divmod), power (**), matmul (@), shift (<<, >>), round(round) are supported:"
   ]
  },
  {
   "cell_type": "code",
   "execution_count": 99,
   "metadata": {
    "ExecuteTime": {
     "end_time": "2024-06-08T08:17:18.750090Z",
     "start_time": "2024-06-08T08:17:18.733415Z"
    }
   },
   "outputs": [
    {
     "data": {
      "text/plain": [
       "(ArrayImpl([1., 2., 3.]) * mvolt, ArrayImpl([2., 3., 4.]) * mvolt)"
      ]
     },
     "execution_count": 99,
     "metadata": {},
     "output_type": "execute_result"
    }
   ],
   "source": [
    "q1 = jnp.array([1, 2, 3]) * bu.mV\n",
    "q2 = jnp.array([2, 3, 4]) * bu.mV\n",
    "q1, q2"
   ]
  },
  {
   "cell_type": "code",
   "execution_count": 100,
   "metadata": {
    "ExecuteTime": {
     "end_time": "2024-06-08T08:17:18.855866Z",
     "start_time": "2024-06-08T08:17:18.840386Z"
    }
   },
   "outputs": [
    {
     "data": {
      "text/plain": [
       "(ArrayImpl([3., 5., 7.]) * mvolt, ArrayImpl([-1., -1., -1.]) * mvolt)"
      ]
     },
     "execution_count": 100,
     "metadata": {},
     "output_type": "execute_result"
    }
   ],
   "source": [
    "q1 + q2, q1 - q2"
   ]
  },
  {
   "cell_type": "code",
   "execution_count": 101,
   "metadata": {
    "ExecuteTime": {
     "end_time": "2024-06-08T08:17:18.941214Z",
     "start_time": "2024-06-08T08:17:18.927264Z"
    }
   },
   "outputs": [
    {
     "data": {
      "text/plain": [
       "ArrayImpl([ 2.,  6., 12.]) * mvolt2"
      ]
     },
     "execution_count": 101,
     "metadata": {},
     "output_type": "execute_result"
    }
   ],
   "source": [
    "q1 * q2"
   ]
  },
  {
   "cell_type": "code",
   "execution_count": 102,
   "metadata": {
    "ExecuteTime": {
     "end_time": "2024-06-08T08:17:19.058063Z",
     "start_time": "2024-06-08T08:17:19.045255Z"
    }
   },
   "outputs": [
    {
     "data": {
      "text/plain": [
       "(Array([0.5       , 0.66666667, 0.75      ], dtype=float64),\n",
       " Array([0., 0., 0.], dtype=float64),\n",
       " ArrayImpl([1., 2., 3.]) * mvolt)"
      ]
     },
     "execution_count": 102,
     "metadata": {},
     "output_type": "execute_result"
    }
   ],
   "source": [
    "q1 / q2, q1 // q2, q1 % q2"
   ]
  },
  {
   "cell_type": "code",
   "execution_count": 103,
   "metadata": {
    "ExecuteTime": {
     "end_time": "2024-06-08T08:17:19.137905Z",
     "start_time": "2024-06-08T08:17:19.125338Z"
    }
   },
   "outputs": [
    {
     "data": {
      "text/plain": [
       "(Array([0., 0., 0.], dtype=float64), ArrayImpl([1., 2., 3.]) * mvolt)"
      ]
     },
     "execution_count": 103,
     "metadata": {},
     "output_type": "execute_result"
    }
   ],
   "source": [
    "divmod(q1, q2)"
   ]
  },
  {
   "cell_type": "code",
   "execution_count": 104,
   "metadata": {
    "ExecuteTime": {
     "end_time": "2024-06-08T08:17:19.289789Z",
     "start_time": "2024-06-08T08:17:19.275896Z"
    }
   },
   "outputs": [
    {
     "data": {
      "text/plain": [
       "ArrayImpl([1., 4., 9.]) * mvolt2"
      ]
     },
     "execution_count": 104,
     "metadata": {},
     "output_type": "execute_result"
    }
   ],
   "source": [
    "q1 ** 2"
   ]
  },
  {
   "cell_type": "code",
   "execution_count": 105,
   "metadata": {
    "ExecuteTime": {
     "end_time": "2024-06-08T08:17:19.347106Z",
     "start_time": "2024-06-08T08:17:19.334827Z"
    }
   },
   "outputs": [
    {
     "data": {
      "text/plain": [
       "20. * mvolt2"
      ]
     },
     "execution_count": 105,
     "metadata": {},
     "output_type": "execute_result"
    }
   ],
   "source": [
    "q1 @ q2"
   ]
  },
  {
   "cell_type": "code",
   "execution_count": 106,
   "metadata": {
    "ExecuteTime": {
     "end_time": "2024-06-08T08:17:19.472101Z",
     "start_time": "2024-06-08T08:17:19.456793Z"
    }
   },
   "outputs": [
    {
     "data": {
      "text/plain": [
       "(ArrayImpl([ 0.,  4.,  8., 12., 16.]) * volt,\n",
       " ArrayImpl([0., 0., 0., 0., 1.]) * volt)"
      ]
     },
     "execution_count": 106,
     "metadata": {},
     "output_type": "execute_result"
    }
   ],
   "source": [
    "q1 = bu.Quantity(jnp.arange(5, dtype=jnp.int32), unit=bu.mV.unit)\n",
    "q1 << 2, q1 >> 2"
   ]
  },
  {
   "cell_type": "code",
   "execution_count": 107,
   "metadata": {
    "ExecuteTime": {
     "end_time": "2024-06-08T08:17:19.531264Z",
     "start_time": "2024-06-08T08:17:19.514038Z"
    }
   },
   "outputs": [
    {
     "name": "stdout",
     "output_type": "stream",
     "text": [
      "round(80.23456, 2) :  80.23 mV\n",
      "round(100.000056, 3) :  100. mV\n",
      "round(-100.000056, 3) :  -100. mV\n"
     ]
    }
   ],
   "source": [
    "q1 = 80.23456 * bu.mV\n",
    "q2 = 100.000056 * bu.mV\n",
    "q3 = -100.000056 * bu.mV\n",
    "print(\"round(80.23456, 2) : \", q1.round(5))\n",
    "print(\"round(100.000056, 3) : \", q2.round(6))\n",
    "print(\"round(-100.000056, 3) : \", q3.round(6))"
   ]
  },
  {
   "cell_type": "markdown",
   "metadata": {},
   "source": [
    "### Shape Manipulation\n",
    "The shape of an array can be changed with various commands. Note that the following three commands all return a modified array, but do not change the original array:"
   ]
  },
  {
   "cell_type": "code",
   "execution_count": 108,
   "metadata": {
    "ExecuteTime": {
     "end_time": "2024-06-08T08:17:19.688835Z",
     "start_time": "2024-06-08T08:17:19.670457Z"
    }
   },
   "outputs": [
    {
     "data": {
      "text/plain": [
       "ArrayImpl([[1., 2.],\n",
       "           [3., 4.]]) * mvolt"
      ]
     },
     "execution_count": 108,
     "metadata": {},
     "output_type": "execute_result"
    }
   ],
   "source": [
    "q = [[1, 2], [3, 4]] * bu.mV\n",
    "q"
   ]
  },
  {
   "cell_type": "code",
   "execution_count": 109,
   "metadata": {
    "ExecuteTime": {
     "end_time": "2024-06-08T08:17:19.754912Z",
     "start_time": "2024-06-08T08:17:19.743837Z"
    }
   },
   "outputs": [
    {
     "data": {
      "text/plain": [
       "ArrayImpl([1., 2., 3., 4.]) * mvolt"
      ]
     },
     "execution_count": 109,
     "metadata": {},
     "output_type": "execute_result"
    }
   ],
   "source": [
    "q.flatten()"
   ]
  },
  {
   "cell_type": "code",
   "execution_count": 110,
   "metadata": {
    "ExecuteTime": {
     "end_time": "2024-06-08T08:17:19.867999Z",
     "start_time": "2024-06-08T08:17:19.854522Z"
    }
   },
   "outputs": [
    {
     "data": {
      "text/plain": [
       "ArrayImpl([[1., 3.],\n",
       "           [2., 4.]]) * mvolt"
      ]
     },
     "execution_count": 110,
     "metadata": {},
     "output_type": "execute_result"
    }
   ],
   "source": [
    "q.swapaxes(0, 1)"
   ]
  },
  {
   "cell_type": "code",
   "execution_count": 111,
   "metadata": {
    "ExecuteTime": {
     "end_time": "2024-06-08T08:17:19.923531Z",
     "start_time": "2024-06-08T08:17:19.907391Z"
    }
   },
   "outputs": [
    {
     "data": {
      "text/plain": [
       "ArrayImpl([1., 3.]) * mvolt"
      ]
     },
     "execution_count": 111,
     "metadata": {},
     "output_type": "execute_result"
    }
   ],
   "source": [
    "q.take(jnp.array([0, 2]))"
   ]
  },
  {
   "cell_type": "code",
   "execution_count": 112,
   "metadata": {
    "ExecuteTime": {
     "end_time": "2024-06-08T08:17:20.036298Z",
     "start_time": "2024-06-08T08:17:20.023150Z"
    }
   },
   "outputs": [
    {
     "data": {
      "text/plain": [
       "ArrayImpl([[1., 3.],\n",
       "           [2., 4.]]) * mvolt"
      ]
     },
     "execution_count": 112,
     "metadata": {},
     "output_type": "execute_result"
    }
   ],
   "source": [
    "q.transpose()"
   ]
  },
  {
   "cell_type": "code",
   "execution_count": 113,
   "metadata": {
    "ExecuteTime": {
     "end_time": "2024-06-08T08:17:20.122048Z",
     "start_time": "2024-06-08T08:17:20.109833Z"
    }
   },
   "outputs": [
    {
     "data": {
      "text/plain": [
       "ArrayImpl([[1., 2., 1., 2.],\n",
       "           [3., 4., 3., 4.]]) * mvolt"
      ]
     },
     "execution_count": 113,
     "metadata": {},
     "output_type": "execute_result"
    }
   ],
   "source": [
    "q.tile(2)"
   ]
  },
  {
   "cell_type": "code",
   "execution_count": 114,
   "metadata": {
    "ExecuteTime": {
     "end_time": "2024-06-08T08:17:20.228759Z",
     "start_time": "2024-06-08T08:17:20.213853Z"
    }
   },
   "outputs": [
    {
     "data": {
      "text/plain": [
       "ArrayImpl([[[1., 2.],\n",
       "            [3., 4.]]]) * mvolt"
      ]
     },
     "execution_count": 114,
     "metadata": {},
     "output_type": "execute_result"
    }
   ],
   "source": [
    "q.unsqueeze(0)"
   ]
  },
  {
   "cell_type": "code",
   "execution_count": 115,
   "metadata": {
    "ExecuteTime": {
     "end_time": "2024-06-08T08:17:20.294326Z",
     "start_time": "2024-06-08T08:17:20.279806Z"
    }
   },
   "outputs": [
    {
     "data": {
      "text/plain": [
       "ArrayImpl([[[1., 2.],\n",
       "            [3., 4.]]]) * mvolt"
      ]
     },
     "execution_count": 115,
     "metadata": {},
     "output_type": "execute_result"
    }
   ],
   "source": [
    "q.expand_dims(0)"
   ]
  },
  {
   "cell_type": "code",
   "execution_count": 116,
   "metadata": {
    "ExecuteTime": {
     "end_time": "2024-06-08T08:17:20.410465Z",
     "start_time": "2024-06-08T08:17:20.397348Z"
    }
   },
   "outputs": [
    {
     "data": {
      "text/plain": [
       "ArrayImpl([[[1., 2.],\n",
       "            [3., 4.]]]) * mvolt"
      ]
     },
     "execution_count": 116,
     "metadata": {},
     "output_type": "execute_result"
    }
   ],
   "source": [
    "expand_as_shape = (1, 2, 2)\n",
    "q.expand_as(jnp.zeros(expand_as_shape).shape)"
   ]
  },
  {
   "cell_type": "code",
   "execution_count": 117,
   "metadata": {
    "ExecuteTime": {
     "end_time": "2024-06-08T08:17:20.473612Z",
     "start_time": "2024-06-08T08:17:20.454902Z"
    }
   },
   "outputs": [
    {
     "data": {
      "text/plain": [
       "ArrayImpl([[ 1., 30.],\n",
       "           [10.,  4.]]) * mvolt"
      ]
     },
     "execution_count": 117,
     "metadata": {},
     "output_type": "execute_result"
    }
   ],
   "source": [
    "q_put = [[1, 2], [3, 4]] * bu.mV\n",
    "q_put.put([[1, 0], [0, 1]], [10, 30] * bu.mV)\n",
    "q_put"
   ]
  },
  {
   "cell_type": "code",
   "execution_count": 118,
   "metadata": {
    "ExecuteTime": {
     "end_time": "2024-06-08T08:17:20.586577Z",
     "start_time": "2024-06-08T08:17:20.573505Z"
    }
   },
   "outputs": [
    {
     "data": {
      "text/plain": [
       "ArrayImpl([[1., 2.],\n",
       "           [3., 4.]]) * mvolt"
      ]
     },
     "execution_count": 118,
     "metadata": {},
     "output_type": "execute_result"
    }
   ],
   "source": [
    "q_squeeze = [[1, 2], [3, 4]] * bu.mV\n",
    "q_squeeze.squeeze()"
   ]
  },
  {
   "cell_type": "code",
   "execution_count": 119,
   "metadata": {
    "ExecuteTime": {
     "end_time": "2024-06-08T08:17:20.667592Z",
     "start_time": "2024-06-08T08:17:20.652077Z"
    }
   },
   "outputs": [
    {
     "data": {
      "text/plain": [
       "[ArrayImpl([[1., 2.]]) * mvolt, ArrayImpl([[3., 4.]]) * mvolt]"
      ]
     },
     "execution_count": 119,
     "metadata": {},
     "output_type": "execute_result"
    }
   ],
   "source": [
    "q_spilt = [[1, 2], [3, 4]] * bu.mV\n",
    "q_spilt.split(2)"
   ]
  },
  {
   "cell_type": "markdown",
   "metadata": {},
   "source": [
    "### Numpy Methods\n",
    "All methods that make sense on quantities should work, i.e. they check for the correct units of their arguments and return quantities with units were appropriate.\n",
    "\n",
    "These methods defined at `braincore.math`, so you can use them by importing `import braincore.math as bm` and then using `bm.method_name`.\n",
    "#### Functions that remove unit\n",
    "- all\n",
    "- any\n",
    "- nonzero\n",
    "- argmax\n",
    "- argmin\n",
    "- argsort\n",
    "- ones_like\n",
    "- zeros_like\n",
    "\n",
    "#### Functions that keep unit\n",
    "- round\n",
    "- std\n",
    "- sum\n",
    "- trace\n",
    "- cumsum\n",
    "- diagonal\n",
    "- max\n",
    "- mean\n",
    "- min\n",
    "- ptp\n",
    "- ravel\n",
    "- absolute\n",
    "- rint\n",
    "- negative\n",
    "- positive\n",
    "- conj\n",
    "- conjugate\n",
    "- floor\n",
    "- ceil\n",
    "- trunc\n",
    "\n",
    "#### Functions that change unit\n",
    "- var\n",
    "- multiply\n",
    "- divide\n",
    "- true_divide\n",
    "- floor_divide\n",
    "- dot\n",
    "- matmul\n",
    "- sqrt\n",
    "- square\n",
    "- reciprocal\n",
    "\n",
    "#### Functions that need to match unit\n",
    "- add\n",
    "- subtract\n",
    "- maximum\n",
    "- minimum\n",
    "- remainder\n",
    "- mod\n",
    "- fmod\n",
    "\n",
    "#### Functions that only work with unitless quantities\n",
    "- sin\n",
    "- sinh\n",
    "- arcsinh\n",
    "- cos\n",
    "- cosh\n",
    "- arccos\n",
    "- arccosh\n",
    "- tan\n",
    "- tanh\n",
    "- arctan\n",
    "- arctanh\n",
    "- log\n",
    "- log10\n",
    "- exp\n",
    "- expm1\n",
    "- log1p\n",
    "\n",
    "#### Functions that compare quantities\n",
    "- less\n",
    "- less_equal\n",
    "- greater\n",
    "- greater_equal\n",
    "- equal\n",
    "- not_equal\n",
    "\n",
    "#### Functions that work on all quantities and return boolean arrays(Logical operations)\n",
    "- logical_and\n",
    "- logical_or\n",
    "- logical_xor\n",
    "- logical_not\n",
    "- isreal\n",
    "- iscomplex\n",
    "- isfinite\n",
    "- isinf\n",
    "- isnan"
   ]
  }
 ],
 "metadata": {
  "kernelspec": {
   "display_name": "Python 3 (ipykernel)",
   "language": "python",
   "name": "python3"
  },
  "language_info": {
   "codemirror_mode": {
    "name": "ipython",
    "version": 3
   },
   "file_extension": ".py",
   "mimetype": "text/x-python",
   "name": "python",
   "nbconvert_exporter": "python",
   "pygments_lexer": "ipython3",
   "version": "3.11.5"
  }
 },
 "nbformat": 4,
 "nbformat_minor": 4
}
