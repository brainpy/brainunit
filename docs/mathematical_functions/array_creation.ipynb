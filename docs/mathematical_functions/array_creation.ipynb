{
 "cells": [
  {
   "cell_type": "markdown",
   "metadata": {},
   "source": [
    "# Array Creation"
   ]
  },
  {
   "cell_type": "markdown",
   "metadata": {},
   "source": [
    "The functions listed below are designed to create `array` or `Quantity` with specific properties, such as filled with a certain value, identity matrices, or arrays with ones on the diagonal. These functions are part of the `brainunit.math` module and are tailored to handle both numerical `array` and `Quantity` with units."
   ]
  },
  {
   "cell_type": "code",
   "execution_count": 17,
   "metadata": {},
   "outputs": [],
   "source": [
    "import brainunit as bu\n",
    "import brainunit.math as bm\n",
    "import jax.numpy as jnp"
   ]
  },
  {
   "cell_type": "markdown",
   "metadata": {},
   "source": [
    "## Full (`brainunit.math.full`)\n",
    "Returns a quantity or array filled with a specific value."
   ]
  },
  {
   "cell_type": "code",
   "execution_count": 6,
   "metadata": {},
   "outputs": [
    {
     "data": {
      "text/plain": [
       "(Array([4, 4, 4], dtype=int32, weak_type=True),\n",
       " ArrayImpl([4., 4., 4.], dtype=float32) * second)"
      ]
     },
     "execution_count": 6,
     "metadata": {},
     "output_type": "execute_result"
    }
   ],
   "source": [
    "array = bm.full(3, 4)                   # return a jax.Array\n",
    "quantity = bm.full(3, 4 * bu.second)    # return a Quantity\n",
    "\n",
    "array, quantity"
   ]
  },
  {
   "cell_type": "markdown",
   "metadata": {},
   "source": [
    "## Empty (`brainunit.math.empty`)\n",
    "Return a new quantity or array of given shape and type, without initializing entries."
   ]
  },
  {
   "cell_type": "code",
   "execution_count": 10,
   "metadata": {},
   "outputs": [
    {
     "data": {
      "text/plain": [
       "(Array([[0., 0.],\n",
       "        [0., 0.]], dtype=float32),\n",
       " ArrayImpl([[0., 0.],\n",
       "            [0., 0.]], dtype=float32) * second)"
      ]
     },
     "execution_count": 10,
     "metadata": {},
     "output_type": "execute_result"
    }
   ],
   "source": [
    "array = bm.empty((2, 2))                    # return a jax.Array\n",
    "quantity = bm.empty((2, 2), unit=bu.second) # return a Quantity\n",
    "\n",
    "array, quantity"
   ]
  },
  {
   "cell_type": "markdown",
   "metadata": {},
   "source": [
    "## Ones (`brainunit.math.ones`)\n",
    "Returns a new quantity or array of given shape and type, filled with ones."
   ]
  },
  {
   "cell_type": "code",
   "execution_count": 11,
   "metadata": {},
   "outputs": [
    {
     "data": {
      "text/plain": [
       "(Array([[1., 1.],\n",
       "        [1., 1.]], dtype=float32),\n",
       " ArrayImpl([[1., 1.],\n",
       "            [1., 1.]], dtype=float32) * second)"
      ]
     },
     "execution_count": 11,
     "metadata": {},
     "output_type": "execute_result"
    }
   ],
   "source": [
    "array = bm.ones((2, 2))                     # return a jax.Array\n",
    "quantity = bm.ones((2, 2), unit=bu.second)  # return a Quantity\n",
    "\n",
    "array, quantity"
   ]
  },
  {
   "cell_type": "markdown",
   "metadata": {},
   "source": [
    "## Zeros (`brainunit.math.zeros`)\n",
    "Returns a new quantity or array of given shape and type, filled with ones."
   ]
  },
  {
   "cell_type": "code",
   "execution_count": 12,
   "metadata": {},
   "outputs": [
    {
     "data": {
      "text/plain": [
       "(Array([[0., 0.],\n",
       "        [0., 0.]], dtype=float32),\n",
       " ArrayImpl([[0., 0.],\n",
       "            [0., 0.]], dtype=float32) * second)"
      ]
     },
     "execution_count": 12,
     "metadata": {},
     "output_type": "execute_result"
    }
   ],
   "source": [
    "array = bm.zeros((2, 2))                    # return a jax.Array\n",
    "quantity = bm.zeros((2, 2), unit=bu.second) # return a Quantity\n",
    "\n",
    "array, quantity"
   ]
  },
  {
   "cell_type": "markdown",
   "metadata": {},
   "source": [
    "## Eye (`brainunit.math.eye`)\n",
    "Returns a 2-D quantity or array with ones on the diagonal and zeros elsewhere."
   ]
  },
  {
   "cell_type": "code",
   "execution_count": 7,
   "metadata": {},
   "outputs": [
    {
     "data": {
      "text/plain": [
       "(Array([[1., 0., 0.],\n",
       "        [0., 1., 0.],\n",
       "        [0., 0., 1.]], dtype=float32),\n",
       " ArrayImpl([[1., 0., 0.],\n",
       "            [0., 1., 0.],\n",
       "            [0., 0., 1.]], dtype=float32) * second)"
      ]
     },
     "execution_count": 7,
     "metadata": {},
     "output_type": "execute_result"
    }
   ],
   "source": [
    "array = bm.eye(3)                       # return a jax.Array\n",
    "quantity = bm.eye(3, unit=bu.second)    # return a Quantity\n",
    "\n",
    "array, quantity"
   ]
  },
  {
   "cell_type": "markdown",
   "metadata": {},
   "source": [
    "## Identity (`brainunit.math.identity`)\n",
    "Return the identity Quantity or array."
   ]
  },
  {
   "cell_type": "code",
   "execution_count": 8,
   "metadata": {},
   "outputs": [
    {
     "data": {
      "text/plain": [
       "(Array([[1., 0., 0.],\n",
       "        [0., 1., 0.],\n",
       "        [0., 0., 1.]], dtype=float32),\n",
       " ArrayImpl([[1., 0., 0.],\n",
       "            [0., 1., 0.],\n",
       "            [0., 0., 1.]], dtype=float32) * second)"
      ]
     },
     "execution_count": 8,
     "metadata": {},
     "output_type": "execute_result"
    }
   ],
   "source": [
    "array = bm.identity(3)                  # return a jax.Array\n",
    "quantity = bm.identity(3, unit=bu.second)    # return a Quantity\n",
    "\n",
    "array, quantity"
   ]
  },
  {
   "cell_type": "markdown",
   "metadata": {},
   "source": [
    "## Tri (`brainunit.math.tri`)\n",
    "Returns A quantity or an array with ones at and below the given diagonal and zeros elsewhere.\n"
   ]
  },
  {
   "cell_type": "code",
   "execution_count": 9,
   "metadata": {},
   "outputs": [
    {
     "data": {
      "text/plain": [
       "(Array([[1., 0., 0.],\n",
       "        [1., 1., 0.],\n",
       "        [1., 1., 1.]], dtype=float32),\n",
       " ArrayImpl([[1., 0., 0.],\n",
       "            [1., 1., 0.],\n",
       "            [1., 1., 1.]], dtype=float32) * second)"
      ]
     },
     "execution_count": 9,
     "metadata": {},
     "output_type": "execute_result"
    }
   ],
   "source": [
    "array = bm.tri(3)                       # return a jax.Array\n",
    "quantity = bm.tri(3, unit=bu.second)    # return a Quantity\n",
    "\n",
    "array, quantity"
   ]
  },
  {
   "cell_type": "markdown",
   "metadata": {},
   "source": [
    "## Array & Asarray (`brainunit.math.array`, `brainunit.math.asarray`)\n",
    "Convert the input to a quantity or array.\n",
    "\n",
    "  If unit is provided, the input will be checked whether it has the same unit as the provided unit.\n",
    "  (If they have same dimension but different magnitude, the input will be converted to the provided unit.)\n",
    "  If unit is not provided, the input will be converted to an array.\n"
   ]
  },
  {
   "cell_type": "code",
   "execution_count": 14,
   "metadata": {},
   "outputs": [
    {
     "data": {
      "text/plain": [
       "(Array([1, 2, 3], dtype=int32),\n",
       " ArrayImpl([1., 2., 3.], dtype=float32) * second)"
      ]
     },
     "execution_count": 14,
     "metadata": {},
     "output_type": "execute_result"
    }
   ],
   "source": [
    "array = bm.asarray([1, 2, 3])                       # return a jax.Array\n",
    "quantity = bm.asarray([1, 2, 3], unit=bu.second)    # return a Quantity\n",
    "\n",
    "array, quantity"
   ]
  },
  {
   "cell_type": "code",
   "execution_count": 15,
   "metadata": {},
   "outputs": [
    {
     "data": {
      "text/plain": [
       "ArrayImpl([1., 2.], dtype=float32) * second"
      ]
     },
     "execution_count": 15,
     "metadata": {},
     "output_type": "execute_result"
    }
   ],
   "source": [
    "# check if the input has the same unit as the provided unit\n",
    "a = bm.asarray([1 * bu.second, 2 * bu.second], unit=bu.second)\n",
    "a"
   ]
  },
  {
   "cell_type": "code",
   "execution_count": 16,
   "metadata": {},
   "outputs": [
    {
     "name": "stdout",
     "output_type": "stream",
     "text": [
      "a and unit have to have the same units. (unit is s).\n"
     ]
    }
   ],
   "source": [
    "# fails because the input has a different unit\n",
    "try:\n",
    "    b = bm.asarray([1 * bu.second, 2 * bu.second], unit=bu.ampere)\n",
    "except Exception as e:\n",
    "    print(e)"
   ]
  },
  {
   "cell_type": "markdown",
   "metadata": {},
   "source": [
    "## Full like (`brainunit.math.full_like`)\n",
    "Return a new quantity or array with the same shape and type as a given array or quantity, filled with `fill_value`.\n"
   ]
  },
  {
   "cell_type": "code",
   "execution_count": 18,
   "metadata": {},
   "outputs": [
    {
     "data": {
      "text/plain": [
       "(Array([4, 4, 4], dtype=int32),\n",
       " ArrayImpl([4., 4., 4.], dtype=float32) * second)"
      ]
     },
     "execution_count": 18,
     "metadata": {},
     "output_type": "execute_result"
    }
   ],
   "source": [
    "a = jnp.array([1, 2, 3])\n",
    "\n",
    "array = bm.full_like(a, 4)                       # return a jax.Array\n",
    "quantity = bm.full_like(a, 4 * bu.second)         # return a Quantity\n",
    "\n",
    "array, quantity"
   ]
  },
  {
   "cell_type": "markdown",
   "metadata": {},
   "source": [
    "## Empty like (`brainunit.math.empty_like`)\n",
    "Return a new quantity or array with the same shape and type as a given array.\n"
   ]
  },
  {
   "cell_type": "code",
   "execution_count": 23,
   "metadata": {},
   "outputs": [
    {
     "data": {
      "text/plain": [
       "(Array([0, 0, 0], dtype=int32),\n",
       " ArrayImpl([0., 0., 0.], dtype=float32) * second)"
      ]
     },
     "execution_count": 23,
     "metadata": {},
     "output_type": "execute_result"
    }
   ],
   "source": [
    "a = jnp.array([1, 2, 3])\n",
    "q = jnp.array([1, 2, 3]) * bu.second\n",
    "\n",
    "array = bm.empty_like(a)       # return a jax.Array\n",
    "quantity = bm.empty_like(q)    # return a Quantity\n",
    "\n",
    "array, quantity"
   ]
  },
  {
   "cell_type": "markdown",
   "metadata": {},
   "source": [
    "## Ones like (`brainunit.math.ones_like`)\n",
    "Return a new quantity or array with the same shape and type as a given array, filled with ones."
   ]
  },
  {
   "cell_type": "code",
   "execution_count": 24,
   "metadata": {},
   "outputs": [
    {
     "data": {
      "text/plain": [
       "(Array([1, 1, 1], dtype=int32),\n",
       " ArrayImpl([1., 1., 1.], dtype=float32) * second)"
      ]
     },
     "execution_count": 24,
     "metadata": {},
     "output_type": "execute_result"
    }
   ],
   "source": [
    "a = jnp.array([1, 2, 3])\n",
    "q = jnp.array([1, 2, 3]) * bu.second\n",
    "\n",
    "array = bm.ones_like(a)       # return a jax.Array\n",
    "quantity = bm.ones_like(q)    # return a Quantity\n",
    "\n",
    "array, quantity"
   ]
  },
  {
   "cell_type": "markdown",
   "metadata": {},
   "source": [
    "## Zeros like (`brainunit.math.zeros_like`)\n",
    "Return a new quantity or array with the same shape and type as a given array, filled with zeros."
   ]
  },
  {
   "cell_type": "code",
   "execution_count": 25,
   "metadata": {},
   "outputs": [
    {
     "data": {
      "text/plain": [
       "(Array([0, 0, 0], dtype=int32),\n",
       " ArrayImpl([0., 0., 0.], dtype=float32) * second)"
      ]
     },
     "execution_count": 25,
     "metadata": {},
     "output_type": "execute_result"
    }
   ],
   "source": [
    "a = jnp.array([1, 2, 3])\n",
    "q = jnp.array([1, 2, 3]) * bu.second\n",
    "\n",
    "array = bm.zeros_like(a)       # return a jax.Array\n",
    "quantity = bm.zeros_like(q)    # return a Quantity\n",
    "\n",
    "array, quantity"
   ]
  },
  {
   "cell_type": "markdown",
   "metadata": {},
   "source": [
    "## Fill diagonal (`brainunit.math.fill_diagonal`)\n",
    "Fill the main diagonal of the given array of any dimensionality."
   ]
  },
  {
   "cell_type": "code",
   "execution_count": 32,
   "metadata": {},
   "outputs": [
    {
     "data": {
      "text/plain": [
       "(Array([[4., 0., 0.],\n",
       "        [0., 4., 0.],\n",
       "        [0., 0., 4.]], dtype=float32),\n",
       " ArrayImpl([[4., 0., 0.],\n",
       "            [0., 4., 0.],\n",
       "            [0., 0., 4.]], dtype=float32) * second)"
      ]
     },
     "execution_count": 32,
     "metadata": {},
     "output_type": "execute_result"
    }
   ],
   "source": [
    "a = jnp.zeros((3, 3))\n",
    "q = jnp.zeros((3, 3)) * bu.second\n",
    "\n",
    "array = bm.fill_diagonal(a, 4)      # return a jax.Array\n",
    "quantity = bm.fill_diagonal(q, 4 * bu.second)   # return a Quantity\n",
    "\n",
    "array, quantity"
   ]
  },
  {
   "cell_type": "markdown",
   "metadata": {},
   "source": [
    "## Diag (`brainunit.math.diag`)\n",
    "Extract a diagonal or construct a diagonal array."
   ]
  },
  {
   "cell_type": "code",
   "execution_count": 19,
   "metadata": {},
   "outputs": [
    {
     "data": {
      "text/plain": [
       "(Array([[1, 0, 0],\n",
       "        [0, 2, 0],\n",
       "        [0, 0, 3]], dtype=int32),\n",
       " ArrayImpl([[1., 0., 0.],\n",
       "            [0., 2., 0.],\n",
       "            [0., 0., 3.]], dtype=float32) * second)"
      ]
     },
     "execution_count": 19,
     "metadata": {},
     "output_type": "execute_result"
    }
   ],
   "source": [
    "a = jnp.array([1, 2, 3])\n",
    "\n",
    "array = bm.diag(a)                       # return a jax.Array\n",
    "quantity = bm.diag(a, unit=bu.second)    # return a Quantity\n",
    "\n",
    "array, quantity"
   ]
  },
  {
   "cell_type": "markdown",
   "metadata": {},
   "source": [
    "## Tril (`brainunit.math.tril`)\n",
    "Lower triangle of an array.\n",
    "\n",
    "  Return a copy of a matrix with the elements above the `k`-th diagonal zeroed.\n",
    "  For quantities or arrays with ``ndim`` exceeding 2, `tril` will apply to the final two axes.\n"
   ]
  },
  {
   "cell_type": "code",
   "execution_count": 21,
   "metadata": {},
   "outputs": [
    {
     "data": {
      "text/plain": [
       "(Array([1., 1., 1.], dtype=float32),\n",
       " ArrayImpl([1., 1., 1.], dtype=float32) * second)"
      ]
     },
     "execution_count": 21,
     "metadata": {},
     "output_type": "execute_result"
    }
   ],
   "source": [
    "a = jnp.ones((3, 3))\n",
    "\n",
    "array = bm.diag(a)                       # return a jax.Array\n",
    "quantity = bm.diag(a, unit=bu.second)    # return a Quantity\n",
    "\n",
    "array, quantity"
   ]
  },
  {
   "cell_type": "markdown",
   "metadata": {},
   "source": [
    "## Triu (`brainunit.math.triu`)\n",
    "Upper triangle of an array.\n",
    "\n",
    "  Return a copy of a matrix with the elements below the `k`-th diagonal zeroed.\n",
    "  For quantities or arrays with ``ndim`` exceeding 2, `triu` will apply to the final two axes."
   ]
  },
  {
   "cell_type": "code",
   "execution_count": 22,
   "metadata": {},
   "outputs": [
    {
     "data": {
      "text/plain": [
       "(Array([[1., 0., 0.],\n",
       "        [1., 1., 0.],\n",
       "        [1., 1., 1.]], dtype=float32),\n",
       " ArrayImpl([[1., 0., 0.],\n",
       "            [1., 1., 0.],\n",
       "            [1., 1., 1.]], dtype=float32) * second)"
      ]
     },
     "execution_count": 22,
     "metadata": {},
     "output_type": "execute_result"
    }
   ],
   "source": [
    "a = jnp.ones((3, 3))\n",
    "\n",
    "array = bm.tril(a)                       # return a jax.Array\n",
    "quantity = bm.tril(a, unit=bu.second)    # return a Quantity\n",
    "\n",
    "array, quantity"
   ]
  },
  {
   "cell_type": "markdown",
   "metadata": {},
   "source": [
    "## Arange (`brainunit.math.arange`)\n",
    "Return evenly spaced values within a given interval."
   ]
  },
  {
   "cell_type": "code",
   "execution_count": 26,
   "metadata": {},
   "outputs": [
    {
     "data": {
      "text/plain": [
       "(Quantity(ArrayImpl([0., 1., 2., 3., 4.], dtype=float32)),\n",
       " ArrayImpl([0., 1., 2., 3., 4.], dtype=float32) * second)"
      ]
     },
     "execution_count": 26,
     "metadata": {},
     "output_type": "execute_result"
    }
   ],
   "source": [
    "array = bm.arange(5)                                    # return a jax.Array\n",
    "quantity = bm.arange(5 * bu.second, step=1 * bu.second) # return a Quantity\n",
    "\n",
    "array, quantity"
   ]
  },
  {
   "cell_type": "code",
   "execution_count": 28,
   "metadata": {},
   "outputs": [
    {
     "data": {
      "text/plain": [
       "(Quantity(ArrayImpl([3., 4., 5., 6., 7., 8.], dtype=float32)),\n",
       " ArrayImpl([3., 4., 5., 6., 7., 8.], dtype=float32) * second)"
      ]
     },
     "execution_count": 28,
     "metadata": {},
     "output_type": "execute_result"
    }
   ],
   "source": [
    "array = bm.arange(3, 9, 1)                                          # return a jax.Array\n",
    "quantity = bm.arange(3 * bu.second, 9 * bu.second, 1 * bu.second)   # return a Quantity\n",
    "\n",
    "array, quantity"
   ]
  },
  {
   "cell_type": "markdown",
   "metadata": {},
   "source": [
    "## Linspace (`brainunit.math.linspace`)\n",
    "Return evenly spaced numbers over a specified interval."
   ]
  },
  {
   "cell_type": "code",
   "execution_count": 30,
   "metadata": {},
   "outputs": [
    {
     "data": {
      "text/plain": [
       "(Quantity(ArrayImpl([ 0. ,  2.5,  5. ,  7.5, 10. ], dtype=float32)),\n",
       " ArrayImpl([ 0. ,  2.5,  5. ,  7.5, 10. ], dtype=float32) * second)"
      ]
     },
     "execution_count": 30,
     "metadata": {},
     "output_type": "execute_result"
    }
   ],
   "source": [
    "array = bm.linspace(0, 10, 5)                               # return a jax.Array\n",
    "quantity = bm.linspace(0 * bu.second, 10 * bu.second, 5)    # return a Quantity\n",
    "\n",
    "array, quantity"
   ]
  },
  {
   "cell_type": "markdown",
   "metadata": {},
   "source": [
    "## Logspace (`brainunit.math.logspace`)\n",
    "Return numbers spaced evenly on a log scale."
   ]
  },
  {
   "cell_type": "code",
   "execution_count": 31,
   "metadata": {},
   "outputs": [
    {
     "data": {
      "text/plain": [
       "(Quantity(ArrayImpl([1.0000000e+00, 3.1622775e+02, 1.0000000e+05, 3.1622776e+07,\n",
       "            1.0000000e+10], dtype=float32)),\n",
       " ArrayImpl([1.0000000e-03, 3.1622776e-01, 1.0000000e+02, 3.1622775e+04,\n",
       "            1.0000000e+07], dtype=float32) * ksecond)"
      ]
     },
     "execution_count": 31,
     "metadata": {},
     "output_type": "execute_result"
    }
   ],
   "source": [
    "array = bm.logspace(0, 10, 5)                               # return a jax.Array\n",
    "quantity = bm.logspace(0 * bu.second, 10 * bu.second, 5)    # return a Quantity\n",
    "\n",
    "array, quantity"
   ]
  },
  {
   "cell_type": "markdown",
   "metadata": {},
   "source": [
    "## Array split (`brainunit.math.array_split`)\n",
    "Split an array into multiple sub-arrays."
   ]
  },
  {
   "cell_type": "code",
   "execution_count": 33,
   "metadata": {},
   "outputs": [
    {
     "data": {
      "text/plain": [
       "([Array([0, 1, 2], dtype=int32),\n",
       "  Array([3, 4, 5], dtype=int32),\n",
       "  Array([6, 7, 8], dtype=int32)],\n",
       " [ArrayImpl([0., 1., 2.], dtype=float32) * second,\n",
       "  ArrayImpl([3., 4., 5.], dtype=float32) * second,\n",
       "  ArrayImpl([6., 7., 8.], dtype=float32) * second])"
      ]
     },
     "execution_count": 33,
     "metadata": {},
     "output_type": "execute_result"
    }
   ],
   "source": [
    "a = jnp.arange(9)\n",
    "q = jnp.arange(9) * bu.second\n",
    "\n",
    "array = bm.array_split(a, 3)      # return a jax.Array\n",
    "quantity = bm.array_split(q, 3)   # return a Quantity\n",
    "\n",
    "array, quantity"
   ]
  },
  {
   "cell_type": "markdown",
   "metadata": {},
   "source": [
    "## Meshgrid (`brainunit.math.meshgrid`)\n",
    "Return coordinate matrices from coordinate vectors."
   ]
  },
  {
   "cell_type": "code",
   "execution_count": 34,
   "metadata": {},
   "outputs": [
    {
     "data": {
      "text/plain": [
       "([Array([[1, 2, 3],\n",
       "         [1, 2, 3]], dtype=int32),\n",
       "  Array([[4, 4, 4],\n",
       "         [5, 5, 5]], dtype=int32)],\n",
       " [ArrayImpl([[1., 2., 3.],\n",
       "             [1., 2., 3.]], dtype=float32) * second,\n",
       "  ArrayImpl([[4., 4., 4.],\n",
       "             [5., 5., 5.]], dtype=float32) * second])"
      ]
     },
     "execution_count": 34,
     "metadata": {},
     "output_type": "execute_result"
    }
   ],
   "source": [
    "x = jnp.array([1, 2, 3])\n",
    "y = jnp.array([4, 5])\n",
    "x_q = jnp.array([1, 2, 3]) * bu.second\n",
    "y_q = jnp.array([4, 5]) * bu.second\n",
    "\n",
    "array = bm.meshgrid(x, y)           # return a jax.Array\n",
    "quantity = bm.meshgrid(x_q, y_q)    # return a Quantity\n",
    "\n",
    "array, quantity"
   ]
  },
  {
   "cell_type": "markdown",
   "metadata": {},
   "source": [
    "## Vandermode (`brainunit.math.vander`)\n",
    "Generate a Vandermonde matrix.\n",
    "\n",
    "The Vandermonde matrix is a matrix with the terms of a geometric progression in each row.\n",
    "  The geometric progression is defined by the vector `x` and the number of columns `N`.\n"
   ]
  },
  {
   "cell_type": "code",
   "execution_count": 36,
   "metadata": {},
   "outputs": [
    {
     "data": {
      "text/plain": [
       "(Array([[1, 1, 1],\n",
       "        [4, 2, 1],\n",
       "        [9, 3, 1]], dtype=int32),\n",
       " ArrayImpl([[1., 1., 1.],\n",
       "            [4., 2., 1.],\n",
       "            [9., 3., 1.]], dtype=float32) * second)"
      ]
     },
     "execution_count": 36,
     "metadata": {},
     "output_type": "execute_result"
    }
   ],
   "source": [
    "a = jnp.array([1, 2, 3])\n",
    "q = jnp.array([1, 2, 3]) * bu.second\n",
    "\n",
    "array = bm.vander(a)                       # return a jax.Array\n",
    "quantity = bm.vander(q)    # return a Quantity\n",
    "\n",
    "array, quantity"
   ]
  }
 ],
 "metadata": {
  "kernelspec": {
   "display_name": "Python 3",
   "language": "python",
   "name": "python3"
  },
  "language_info": {
   "codemirror_mode": {
    "name": "ipython",
    "version": 3
   },
   "file_extension": ".py",
   "mimetype": "text/x-python",
   "name": "python",
   "nbconvert_exporter": "python",
   "pygments_lexer": "ipython3",
   "version": "3.10.13"
  }
 },
 "nbformat": 4,
 "nbformat_minor": 2
}
