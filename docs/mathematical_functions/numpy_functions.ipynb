{
 "cells": [
  {
   "cell_type": "markdown",
   "metadata": {},
   "source": [
    "# NumPy Functions"
   ]
  },
  {
   "cell_type": "markdown",
   "metadata": {},
   "source": [
    "In `brainunit.math` we reimplemented almost all important NumPy functions compatible with both `Quantity` and arrays.\n",
    "For compatible with `Quantity`, we categorized the functions into serveral groups.\n",
    "\n",
    "- [Array Creation](https://brainunit.readthedocs.io/en/latest/apis/brainunit.math.html#array-creation)\n",
    "- [Array Manipulation](https://brainunit.readthedocs.io/en/latest/apis/brainunit.math.html#array-manipulation)\n",
    "- [Functions Accept Unitless](https://brainunit.readthedocs.io/en/latest/apis/brainunit.math.html#functions-accept-unitless)\n",
    "- [Functions with Bitwise Operations](https://brainunit.readthedocs.io/en/latest/apis/brainunit.math.html#functions-with-bitwise-operations)\n",
    "- [Functions Changing Unit](https://brainunit.readthedocs.io/en/latest/apis/brainunit.math.html#functions-changing-unit)\n",
    "- [Indexing Functions](https://brainunit.readthedocs.io/en/latest/apis/brainunit.math.html#indexing-functions)\n",
    "- [Functions Keeping Unit](https://brainunit.readthedocs.io/en/latest/apis/brainunit.math.html#functions-keeping-unit)\n",
    "- [Logical Functions](https://brainunit.readthedocs.io/en/latest/apis/brainunit.math.html#logical-functions)\n",
    "- [Functions Matching Unit](https://brainunit.readthedocs.io/en/latest/apis/brainunit.math.html#functions-matching-unit)\n",
    "- [Functions Removing Unit](https://brainunit.readthedocs.io/en/latest/apis/brainunit.math.html#functions-removing-unit)\n",
    "- [Window Functions](https://brainunit.readthedocs.io/en/latest/apis/brainunit.math.html#window-functions)\n",
    "- [Get Attribute Functions](https://brainunit.readthedocs.io/en/latest/apis/brainunit.math.html#get-attribute-functions)\n",
    "- [Linear Algebra Functions](https://brainunit.readthedocs.io/en/latest/apis/brainunit.math.html#linear-algebra-functions)\n",
    "- [More Functions](https://brainunit.readthedocs.io/en/latest/apis/brainunit.math.html#more-functions)\n",
    "\n",
    "Detailed information can be found in the [API documentation](https://brainunit.readthedocs.io/en/latest/apis/brainunit.math.html)."
   ]
  },
  {
   "cell_type": "markdown",
   "metadata": {},
   "source": [
    "### Array Creation"
   ]
  },
  {
   "cell_type": "code",
   "execution_count": 1,
   "metadata": {},
   "outputs": [],
   "source": [
    "import brainunit as bu\n",
    "import brainunit.math as bm\n",
    "import jax.numpy as jnp"
   ]
  },
  {
   "cell_type": "code",
   "execution_count": 2,
   "metadata": {},
   "outputs": [
    {
     "data": {
      "text/plain": [
       "ArrayImpl([4., 4., 4.], dtype=float32) * second"
      ]
     },
     "execution_count": 2,
     "metadata": {},
     "output_type": "execute_result"
    }
   ],
   "source": [
    "bm.full(3, 4 * bu.second)"
   ]
  },
  {
   "cell_type": "markdown",
   "metadata": {},
   "source": [
    "### Array Manipulation"
   ]
  },
  {
   "cell_type": "code",
   "execution_count": 3,
   "metadata": {},
   "outputs": [
    {
     "data": {
      "text/plain": [
       "ArrayImpl([[1., 2.],\n",
       "           [3., 4.]], dtype=float32) * second"
      ]
     },
     "execution_count": 3,
     "metadata": {},
     "output_type": "execute_result"
    }
   ],
   "source": [
    "q = [1, 2, 3, 4] * bu.second\n",
    "bu.math.reshape(q, (2, 2))"
   ]
  },
  {
   "cell_type": "markdown",
   "metadata": {},
   "source": [
    "### Function: Accept Unitless"
   ]
  },
  {
   "cell_type": "code",
   "execution_count": 4,
   "metadata": {},
   "outputs": [
    {
     "data": {
      "text/plain": [
       "Array([2.7182817, 7.389056 ], dtype=float32)"
      ]
     },
     "execution_count": 4,
     "metadata": {},
     "output_type": "execute_result"
    }
   ],
   "source": [
    "q = [1.0, 2.0] * bu.second\n",
    "bm.exp(q.to_value(bu.second))"
   ]
  },
  {
   "cell_type": "markdown",
   "metadata": {},
   "source": [
    "### Function: Bitwise Operations"
   ]
  },
  {
   "cell_type": "code",
   "execution_count": 5,
   "metadata": {},
   "outputs": [
    {
     "data": {
      "text/plain": [
       "Array([-13], dtype=int32)"
      ]
     },
     "execution_count": 5,
     "metadata": {},
     "output_type": "execute_result"
    }
   ],
   "source": [
    "q = jnp.array([0b1100]) * bu.second\n",
    "bm.invert(q.to_value(bu.second).astype(jnp.int32))"
   ]
  },
  {
   "cell_type": "markdown",
   "metadata": {},
   "source": [
    "### Function: Change Unit"
   ]
  },
  {
   "cell_type": "code",
   "execution_count": 6,
   "metadata": {},
   "outputs": [
    {
     "data": {
      "text/plain": [
       "ArrayImpl([3.      , 8.00000095], dtype=float32) * uweber"
      ]
     },
     "execution_count": 6,
     "metadata": {},
     "output_type": "execute_result"
    }
   ],
   "source": [
    "q1 = [1, 2] * bu.ms\n",
    "q2 = [3, 4] * bu.mV\n",
    "bm.multiply(q1, q2)"
   ]
  },
  {
   "cell_type": "markdown",
   "metadata": {},
   "source": [
    "### Function: Indexing"
   ]
  },
  {
   "cell_type": "code",
   "execution_count": 7,
   "metadata": {},
   "outputs": [
    {
     "data": {
      "text/plain": [
       "ArrayImpl([0., 0., 3., 4., 5.], dtype=float32) * second"
      ]
     },
     "execution_count": 7,
     "metadata": {},
     "output_type": "execute_result"
    }
   ],
   "source": [
    "q = [1, 2, 3, 4, 5] * bu.second\n",
    "bm.where(q > 2 * bu.second, q, 0)"
   ]
  },
  {
   "cell_type": "markdown",
   "metadata": {},
   "source": [
    "### Function: Keep Unit"
   ]
  },
  {
   "cell_type": "code",
   "execution_count": 8,
   "metadata": {},
   "outputs": [
    {
     "data": {
      "text/plain": [
       "ArrayImpl([1., 2., 3.], dtype=float32) * msecond"
      ]
     },
     "execution_count": 8,
     "metadata": {},
     "output_type": "execute_result"
    }
   ],
   "source": [
    "q = [-1, -2, 3] * bu.ms\n",
    "bm.abs(q)"
   ]
  },
  {
   "cell_type": "markdown",
   "metadata": {},
   "source": [
    "### Function: Matching Unit"
   ]
  },
  {
   "cell_type": "code",
   "execution_count": 9,
   "metadata": {},
   "outputs": [
    {
     "data": {
      "text/plain": [
       "ArrayImpl([4., 6.], dtype=float32) * msecond"
      ]
     },
     "execution_count": 9,
     "metadata": {},
     "output_type": "execute_result"
    }
   ],
   "source": [
    "q1 = [1, 2] * bu.ms\n",
    "q2 = [3, 4] * bu.ms\n",
    "bm.add(q1, q2)"
   ]
  },
  {
   "cell_type": "markdown",
   "metadata": {},
   "source": [
    "### Function: Remove Unit"
   ]
  },
  {
   "cell_type": "code",
   "execution_count": 10,
   "metadata": {},
   "outputs": [
    {
     "data": {
      "text/plain": [
       "Array([-1.,  1.], dtype=float32)"
      ]
     },
     "execution_count": 10,
     "metadata": {},
     "output_type": "execute_result"
    }
   ],
   "source": [
    "q = [-1.0, 2.0] * bu.second\n",
    "bm.sign(q)"
   ]
  },
  {
   "cell_type": "markdown",
   "metadata": {},
   "source": [
    "### Function: Logical"
   ]
  },
  {
   "cell_type": "code",
   "execution_count": 11,
   "metadata": {},
   "outputs": [
    {
     "data": {
      "text/plain": [
       "Array([ True, False], dtype=bool)"
      ]
     },
     "execution_count": 11,
     "metadata": {},
     "output_type": "execute_result"
    }
   ],
   "source": [
    "q1 = [1.0, 2.0] * bu.second\n",
    "q2 = [1.0, 3.0] * bu.second\n",
    "bm.isclose(q1, q2, atol=0.2)"
   ]
  },
  {
   "cell_type": "markdown",
   "metadata": {},
   "source": [
    "### Function: Window"
   ]
  },
  {
   "cell_type": "code",
   "execution_count": 12,
   "metadata": {},
   "outputs": [
    {
     "data": {
      "text/plain": [
       "Array([0. , 0.5, 1. , 0.5, 0. ], dtype=float32)"
      ]
     },
     "execution_count": 12,
     "metadata": {},
     "output_type": "execute_result"
    }
   ],
   "source": [
    "bm.bartlett(5)"
   ]
  },
  {
   "cell_type": "markdown",
   "metadata": {},
   "source": [
    "### Linear Algebra"
   ]
  },
  {
   "cell_type": "code",
   "execution_count": 13,
   "metadata": {},
   "outputs": [
    {
     "data": {
      "text/plain": [
       "11. * weber"
      ]
     },
     "execution_count": 13,
     "metadata": {},
     "output_type": "execute_result"
    }
   ],
   "source": [
    "q1 = [1, 2] * bu.second\n",
    "q2 = [3, 4] * bu.volt\n",
    "bm.dot(q1, q2)"
   ]
  },
  {
   "cell_type": "markdown",
   "metadata": {},
   "source": [
    "### More Functions"
   ]
  },
  {
   "cell_type": "code",
   "execution_count": 14,
   "metadata": {},
   "outputs": [
    {
     "data": {
      "text/plain": [
       "ArrayImpl([[ 4.,  5.],\n",
       "           [ 8., 10.],\n",
       "           [12., 15.]], dtype=float32) * weber"
      ]
     },
     "execution_count": 14,
     "metadata": {},
     "output_type": "execute_result"
    }
   ],
   "source": [
    "q1 = [1, 2, 3] * bu.second\n",
    "q2 = [4, 5] * bu.volt\n",
    "bm.einsum('i,j->ij', q1, q2)"
   ]
  },
  {
   "cell_type": "markdown",
   "metadata": {},
   "source": [
    "## Shape Manipulation"
   ]
  },
  {
   "cell_type": "code",
   "execution_count": 15,
   "metadata": {},
   "outputs": [],
   "source": [
    "import brainunit as bu\n",
    "import brainunit.math as bm\n",
    "import jax.numpy as jnp\n",
    "import brainstate as bst\n",
    "bst.environ.set(precision=64)"
   ]
  },
  {
   "cell_type": "markdown",
   "metadata": {},
   "source": [
    "### Changing the shape of a Quantity"
   ]
  },
  {
   "cell_type": "markdown",
   "metadata": {},
   "source": [
    "A Quantity has a shape given by the number of elements along each axis:\n"
   ]
  },
  {
   "cell_type": "code",
   "execution_count": 16,
   "metadata": {},
   "outputs": [
    {
     "data": {
      "text/plain": [
       "ArrayImpl([[7., 7., 9., 6.],\n",
       "           [8., 1., 4., 9.],\n",
       "           [3., 9., 8., 4.]]) * mvolt"
      ]
     },
     "execution_count": 16,
     "metadata": {},
     "output_type": "execute_result"
    }
   ],
   "source": [
    "a = jnp.floor(10 * bst.random.random((3, 4))) * bu.mV\n",
    "a"
   ]
  },
  {
   "cell_type": "code",
   "execution_count": 17,
   "metadata": {},
   "outputs": [
    {
     "data": {
      "text/plain": [
       "(3, 4)"
      ]
     },
     "execution_count": 17,
     "metadata": {},
     "output_type": "execute_result"
    }
   ],
   "source": [
    "a.shape"
   ]
  },
  {
   "cell_type": "markdown",
   "metadata": {},
   "source": [
    "The shape of a Quantity can be changed with various commands. Note that the following three commands all return a modified array, but do not change the original array:"
   ]
  },
  {
   "cell_type": "code",
   "execution_count": 18,
   "metadata": {},
   "outputs": [
    {
     "data": {
      "text/plain": [
       "ArrayImpl([7., 7., 9., 6., 8., 1., 4., 9., 3., 9., 8., 4.]) * mvolt"
      ]
     },
     "execution_count": 18,
     "metadata": {},
     "output_type": "execute_result"
    }
   ],
   "source": [
    "a.ravel()  # returns the array, flattened"
   ]
  },
  {
   "cell_type": "code",
   "execution_count": 19,
   "metadata": {},
   "outputs": [
    {
     "data": {
      "text/plain": [
       "ArrayImpl([[7., 7.],\n",
       "           [9., 6.],\n",
       "           [8., 1.],\n",
       "           [4., 9.],\n",
       "           [3., 9.],\n",
       "           [8., 4.]]) * mvolt"
      ]
     },
     "execution_count": 19,
     "metadata": {},
     "output_type": "execute_result"
    }
   ],
   "source": [
    "a.reshape(6, 2) # returns the array with a modified shape"
   ]
  },
  {
   "cell_type": "code",
   "execution_count": 20,
   "metadata": {},
   "outputs": [
    {
     "data": {
      "text/plain": [
       "ArrayImpl([[7., 8., 3.],\n",
       "           [7., 1., 9.],\n",
       "           [9., 4., 8.],\n",
       "           [6., 9., 4.]]) * mvolt"
      ]
     },
     "execution_count": 20,
     "metadata": {},
     "output_type": "execute_result"
    }
   ],
   "source": [
    "a.T  # returns the array, transposed"
   ]
  },
  {
   "cell_type": "code",
   "execution_count": 21,
   "metadata": {},
   "outputs": [
    {
     "data": {
      "text/plain": [
       "(4, 3)"
      ]
     },
     "execution_count": 21,
     "metadata": {},
     "output_type": "execute_result"
    }
   ],
   "source": [
    "a.T.shape"
   ]
  },
  {
   "cell_type": "code",
   "execution_count": 22,
   "metadata": {},
   "outputs": [
    {
     "data": {
      "text/plain": [
       "(3, 4)"
      ]
     },
     "execution_count": 22,
     "metadata": {},
     "output_type": "execute_result"
    }
   ],
   "source": [
    "a.shape"
   ]
  },
  {
   "cell_type": "markdown",
   "metadata": {},
   "source": [
    "The order of the elements in the Quantity resulting from ravel is normally “C-style”, that is, the rightmost index “changes the fastest”, so the element after a[0, 0] is a[0, 1]. If the Quantity is reshaped to some other shape, again the Quantity is treated as “C-style”. NumPy normally creates arrays stored in this order, so ravel will usually not need to copy its argument, but if the Quantity was made by taking slices of another Quantity or created with unusual options, it may need to be copied. The functions ravel and reshape can also be instructed, using an optional argument, to use FORTRAN-style arrays, in which the leftmost index changes the fastest.\n",
    "\n",
    "The reshape function only returns its argument with a modified shape, due to Jax's immutability. The resize method is not available in braincore."
   ]
  },
  {
   "cell_type": "markdown",
   "metadata": {},
   "source": [
    "If a dimension is given as -1 in a reshaping operation, the other dimensions are automatically calculated:"
   ]
  },
  {
   "cell_type": "code",
   "execution_count": 23,
   "metadata": {},
   "outputs": [
    {
     "data": {
      "text/plain": [
       "ArrayImpl([[7., 7., 9., 6.],\n",
       "           [8., 1., 4., 9.],\n",
       "           [3., 9., 8., 4.]]) * mvolt"
      ]
     },
     "execution_count": 23,
     "metadata": {},
     "output_type": "execute_result"
    }
   ],
   "source": [
    "a.reshape(3, -1)"
   ]
  },
  {
   "cell_type": "markdown",
   "metadata": {},
   "source": [
    "### Stacking together different Quantities"
   ]
  },
  {
   "cell_type": "markdown",
   "metadata": {},
   "source": [
    "Several arrays can be stacked together along different axes:"
   ]
  },
  {
   "cell_type": "code",
   "execution_count": 24,
   "metadata": {},
   "outputs": [
    {
     "data": {
      "text/plain": [
       "ArrayImpl([[4., 1.],\n",
       "           [7., 0.]]) * mvolt"
      ]
     },
     "execution_count": 24,
     "metadata": {},
     "output_type": "execute_result"
    }
   ],
   "source": [
    "a = jnp.floor(10 * bst.random.random((2, 2))) * bu.mV\n",
    "a"
   ]
  },
  {
   "cell_type": "code",
   "execution_count": 25,
   "metadata": {},
   "outputs": [
    {
     "data": {
      "text/plain": [
       "ArrayImpl([[6., 9.],\n",
       "           [3., 4.]]) * mvolt"
      ]
     },
     "execution_count": 25,
     "metadata": {},
     "output_type": "execute_result"
    }
   ],
   "source": [
    "b = jnp.floor(10 * bst.random.random((2, 2))) * bu.mV\n",
    "b"
   ]
  },
  {
   "cell_type": "code",
   "execution_count": 26,
   "metadata": {},
   "outputs": [
    {
     "data": {
      "text/plain": [
       "ArrayImpl([[4., 1.],\n",
       "           [7., 0.],\n",
       "           [6., 9.],\n",
       "           [3., 4.]]) * mvolt"
      ]
     },
     "execution_count": 26,
     "metadata": {},
     "output_type": "execute_result"
    }
   ],
   "source": [
    "bm.vstack((a, b))"
   ]
  },
  {
   "cell_type": "code",
   "execution_count": 27,
   "metadata": {},
   "outputs": [
    {
     "data": {
      "text/plain": [
       "ArrayImpl([[4., 1., 6., 9.],\n",
       "           [7., 0., 3., 4.]]) * mvolt"
      ]
     },
     "execution_count": 27,
     "metadata": {},
     "output_type": "execute_result"
    }
   ],
   "source": [
    "bm.hstack((a, b))"
   ]
  },
  {
   "cell_type": "markdown",
   "metadata": {},
   "source": [
    "The function column_stack stacks 1D Quantities as columns into a 2D Quantities. It is equivalent to hstack only for 2D Quantities:"
   ]
  },
  {
   "cell_type": "code",
   "execution_count": 28,
   "metadata": {},
   "outputs": [
    {
     "data": {
      "text/plain": [
       "ArrayImpl([[4., 1., 6., 9.],\n",
       "           [7., 0., 3., 4.]]) * mvolt"
      ]
     },
     "execution_count": 28,
     "metadata": {},
     "output_type": "execute_result"
    }
   ],
   "source": [
    "bm.column_stack((a, b)) # with 2D arrays"
   ]
  },
  {
   "cell_type": "code",
   "execution_count": 29,
   "metadata": {},
   "outputs": [
    {
     "data": {
      "text/plain": [
       "ArrayImpl([[4., 2.],\n",
       "           [2., 8.]]) * mvolt"
      ]
     },
     "execution_count": 29,
     "metadata": {},
     "output_type": "execute_result"
    }
   ],
   "source": [
    "a = jnp.array([4., 2.]) * bu.mV\n",
    "b = jnp.array([2., 8.]) * bu.mV\n",
    "bm.column_stack((a, b)) # returns a 2D array"
   ]
  },
  {
   "cell_type": "code",
   "execution_count": 30,
   "metadata": {},
   "outputs": [
    {
     "data": {
      "text/plain": [
       "ArrayImpl([4., 2., 2., 8.]) * mvolt"
      ]
     },
     "execution_count": 30,
     "metadata": {},
     "output_type": "execute_result"
    }
   ],
   "source": [
    "bm.hstack((a, b)) # the result is different"
   ]
  },
  {
   "cell_type": "code",
   "execution_count": 31,
   "metadata": {},
   "outputs": [
    {
     "data": {
      "text/plain": [
       "ArrayImpl([[4.],\n",
       "           [2.]]) * mvolt"
      ]
     },
     "execution_count": 31,
     "metadata": {},
     "output_type": "execute_result"
    }
   ],
   "source": [
    "a[:, jnp.newaxis] # view `a` as a 2D column vector"
   ]
  },
  {
   "cell_type": "code",
   "execution_count": 32,
   "metadata": {},
   "outputs": [
    {
     "data": {
      "text/plain": [
       "ArrayImpl([[4., 2.],\n",
       "           [2., 8.]]) * mvolt"
      ]
     },
     "execution_count": 32,
     "metadata": {},
     "output_type": "execute_result"
    }
   ],
   "source": [
    "bm.column_stack((a[:, jnp.newaxis], b[:, jnp.newaxis]))"
   ]
  },
  {
   "cell_type": "code",
   "execution_count": 33,
   "metadata": {},
   "outputs": [
    {
     "data": {
      "text/plain": [
       "ArrayImpl([[4., 2.],\n",
       "           [2., 8.]]) * mvolt"
      ]
     },
     "execution_count": 33,
     "metadata": {},
     "output_type": "execute_result"
    }
   ],
   "source": [
    "bm.hstack((a[:, jnp.newaxis], b[:, jnp.newaxis])) # the result is the same"
   ]
  },
  {
   "cell_type": "markdown",
   "metadata": {},
   "source": [
    "### Splitting one Quantity into several smaller ones"
   ]
  },
  {
   "cell_type": "markdown",
   "metadata": {},
   "source": [
    "Using hsplit, you can split an array along its horizontal axis, either by specifying the number of equally shaped Quantities to return, or by specifying the columns after which the division should occur:"
   ]
  },
  {
   "cell_type": "code",
   "execution_count": 34,
   "metadata": {},
   "outputs": [
    {
     "data": {
      "text/plain": [
       "ArrayImpl([[7., 8., 3., 7., 8., 5., 2., 8., 0., 0., 0., 5.],\n",
       "           [7., 4., 3., 3., 8., 0., 6., 2., 9., 7., 6., 8.]]) * mvolt"
      ]
     },
     "execution_count": 34,
     "metadata": {},
     "output_type": "execute_result"
    }
   ],
   "source": [
    "a = jnp.floor(10 * bst.random.random((2, 12))) * bu.mV\n",
    "a"
   ]
  },
  {
   "cell_type": "code",
   "execution_count": 35,
   "metadata": {},
   "outputs": [
    {
     "data": {
      "text/plain": [
       "[ArrayImpl([[7., 8., 3., 7.],\n",
       "            [7., 4., 3., 3.]]) * mvolt,\n",
       " ArrayImpl([[8., 5., 2., 8.],\n",
       "            [8., 0., 6., 2.]]) * mvolt,\n",
       " ArrayImpl([[0., 0., 0., 5.],\n",
       "            [9., 7., 6., 8.]]) * mvolt]"
      ]
     },
     "execution_count": 35,
     "metadata": {},
     "output_type": "execute_result"
    }
   ],
   "source": [
    "bm.hsplit(a, 3) # Split a into 3"
   ]
  },
  {
   "cell_type": "code",
   "execution_count": 36,
   "metadata": {},
   "outputs": [
    {
     "data": {
      "text/plain": [
       "[ArrayImpl([[7., 8., 3.],\n",
       "            [7., 4., 3.]]) * mvolt,\n",
       " ArrayImpl([[7.],\n",
       "            [3.]]) * mvolt,\n",
       " ArrayImpl([[8., 5., 2., 8., 0., 0., 0., 5.],\n",
       "            [8., 0., 6., 2., 9., 7., 6., 8.]]) * mvolt]"
      ]
     },
     "execution_count": 36,
     "metadata": {},
     "output_type": "execute_result"
    }
   ],
   "source": [
    "bm.hsplit(a, (3, 4)) # Split `a` after the third and the fourth column"
   ]
  },
  {
   "cell_type": "markdown",
   "metadata": {},
   "source": [
    "## Comparing Quantities"
   ]
  },
  {
   "cell_type": "markdown",
   "metadata": {},
   "source": [
    "The equality of `Quantity` objects is best tested using the `brainunit.math.allclose()` and `brainunit.math.isclose()` functions, which are unit-aware analogues of the numpy functions with the same name:"
   ]
  },
  {
   "cell_type": "code",
   "execution_count": 37,
   "metadata": {},
   "outputs": [
    {
     "data": {
      "text/plain": [
       "Array(True, dtype=bool)"
      ]
     },
     "execution_count": 37,
     "metadata": {},
     "output_type": "execute_result"
    }
   ],
   "source": [
    "bm.allclose([1, 2] * bu.meter, [100, 200] * bu.cm)"
   ]
  },
  {
   "cell_type": "code",
   "execution_count": 38,
   "metadata": {},
   "outputs": [
    {
     "data": {
      "text/plain": [
       "Array([ True, False], dtype=bool)"
      ]
     },
     "execution_count": 38,
     "metadata": {},
     "output_type": "execute_result"
    }
   ],
   "source": [
    "bm.isclose([1, 2] * bu.meter, [100, 20] * bu.cm)"
   ]
  },
  {
   "cell_type": "markdown",
   "metadata": {},
   "source": [
    "The use of Python comparison operators is also supported(>, <, >=, <=, ==, !=) if the two `Quantity` objects have the same unit. If the two `Quantity` objects have different units, a `DimensionMismatchError` will be raised."
   ]
  },
  {
   "cell_type": "code",
   "execution_count": 39,
   "metadata": {},
   "outputs": [
    {
     "data": {
      "text/plain": [
       "False"
      ]
     },
     "execution_count": 39,
     "metadata": {},
     "output_type": "execute_result"
    }
   ],
   "source": [
    "1 * bu.meter < 50 * bu.cm"
   ]
  },
  {
   "cell_type": "code",
   "execution_count": 40,
   "metadata": {},
   "outputs": [
    {
     "name": "stdout",
     "output_type": "stream",
     "text": [
      "Cannot perform comparison 1.0 < 50.0, units do not match (units are m and s).\n"
     ]
    }
   ],
   "source": [
    "from brainunit import DimensionMismatchError\n",
    "\n",
    "try:\n",
    "    1 * bu.meter < 50 * bu.second\n",
    "except DimensionMismatchError as e:\n",
    "    print(e)"
   ]
  }
 ],
 "metadata": {
  "kernelspec": {
   "display_name": "Python 3",
   "language": "python",
   "name": "python3"
  },
  "language_info": {
   "codemirror_mode": {
    "name": "ipython",
    "version": 3
   },
   "file_extension": ".py",
   "mimetype": "text/x-python",
   "name": "python",
   "nbconvert_exporter": "python",
   "pygments_lexer": "ipython3",
   "version": "3.10.13"
  }
 },
 "nbformat": 4,
 "nbformat_minor": 2
}
