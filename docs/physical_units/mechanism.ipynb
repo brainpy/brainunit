{
 "cells": [
  {
   "cell_type": "markdown",
   "metadata": {},
   "source": [
    "# Mechanisms of Quantity / Dimension / Unit"
   ]
  },
  {
   "cell_type": "markdown",
   "metadata": {},
   "source": [
    "## Introduction\n",
    "In this section, we will introduce the mechanism of quantity, dimension, and unit in `brainunit` for advanced users.\n",
    "\n",
    "The basic design is shown in the following figure."
   ]
  },
  {
   "cell_type": "markdown",
   "metadata": {},
   "source": [
    "<center><img src=\"../_static/mechanism.png\"\"></center>"
   ]
  },
  {
   "cell_type": "markdown",
   "metadata": {},
   "source": [
    "## Dimension"
   ]
  },
  {
   "cell_type": "markdown",
   "metadata": {},
   "source": [
    "The Dimension class represents the fundamental dimensions of physical quantities, such as length, mass, time, etc. It is an immutable object, ensuring that each combination of dimensions is unique.\n",
    "\n",
    "**Key Features**:\n",
    "- Storage of Dimension Exponents: Uses a tuple _dims to store the exponents for each base SI unit.\n",
    "- Immutability: Ensures immutability by disabling increment operators (e.g., __imul__, __idiv__, etc.).\n",
    "- Dimension Arithmetic: Supports multiplication (__mul__), division (__div__), and power (__pow__) operations, creating new dimension objects.\n",
    "- Comparison: Supports dimension comparison through __eq__ and __ne__ methods.\n",
    "- Singleton Pattern: Utilizes the get_or_create_dimension function to ensure that instances of the same dimension combination are the same object."
   ]
  },
  {
   "cell_type": "markdown",
   "metadata": {},
   "source": [
    "## Quantity"
   ]
  },
  {
   "cell_type": "markdown",
   "metadata": {},
   "source": [
    "The Quantity class represents a physical quantity with a numerical value and a unit. It is the core class for handling physical quantities in brainunit.\n",
    "\n",
    "**Key Features**:\n",
    "- Value and Dimension: Stores the numerical value (_value) and the dimension (_dim).\n",
    "- Unit Handling: Works in conjunction with the Unit class to handle conversions between different units.\n",
    "- Arithmetic Operations: Supports all basic arithmetic operations, ensuring dimensional consistency.\n",
    "- Dimension Checking: Automatically checks for dimensional consistency during operations, throwing a DimensionMismatchError if inconsistencies are found.\n",
    "- Unit Conversion: Provides methods like in_unit and in_best_unit to convert the numerical representation to different units.\n",
    "- Integration with NumPy and JAX: Supports interoperability with NumPy and JAX arrays, allowing the use of these libraries' functionalities on physical quantities."
   ]
  },
  {
   "cell_type": "markdown",
   "metadata": {},
   "source": [
    "## Units"
   ]
  },
  {
   "cell_type": "markdown",
   "metadata": {},
   "source": [
    "The `Unit` class in the provided Python code is designed to handle physical units in a way that maintains dimensional consistency and allows for easy scaling and conversion between different units. Here's a detailed explanation of how the Unit class is implemented and how it handles scaling:"
   ]
  },
  {
   "cell_type": "markdown",
   "metadata": {},
   "source": [
    "### Class Structure and Initialization\n",
    "The `Unit` class is derived from `Quantity` and includes several attributes to manage the unit's properties:\n",
    "- `_value`: The numeric value of the unit.\n",
    "- `_unit`: The dimensions of the unit.\n",
    "- `scale`: The scale of the unit, represented as an exponent of 10.\n",
    "- `_dispname`: The display name of the unit.\n",
    "- `_name`: The full name of the unit.\n",
    "- `iscompound`: A flag indicating whether the unit is a compound unit (composed of other units).\n",
    "\n",
    "The `__init__` method initializes these attributes based on the provided parameters. The `scale` attribute is crucial for scaling the unit, as it determines the prefix (like kilo, milli, etc.) that should be applied to the base unit."
   ]
  },
  {
   "cell_type": "markdown",
   "metadata": {},
   "source": [
    "### Scaling Mechanism\n",
    "Scaling in the `Unit` class is handled through the `scale` attribute and the use of standard SI prefixes. The `create_scaled_unit` method is used to create a new unit that is a scaled version of an existing base unit. This method takes a `baseunit` and a `scalefactor` (the prefix like \"m\" for milli) and adjusts the `scale` attribute accordingly. For example, if the `baseunit` is metre and the `scalefactor` is \"k\" (for kilo), the `scale` would be increased by 3 (since kilo represents 10^3)."
   ]
  },
  {
   "cell_type": "markdown",
   "metadata": {},
   "source": [
    "#### Example\n",
    "There is a series of examples to illustrate how to use the Unit class to create basic units, compound units, and units with different scales."
   ]
  },
  {
   "cell_type": "markdown",
   "metadata": {},
   "source": [
    "##### Creating Basic Units\n",
    "First, we create some basic units, such as meters (metre) and seconds (second):"
   ]
  },
  {
   "cell_type": "code",
   "execution_count": 2,
   "metadata": {},
   "outputs": [
    {
     "data": {
      "text/plain": [
       "(metre, second)"
      ]
     },
     "execution_count": 2,
     "metadata": {},
     "output_type": "execute_result"
    }
   ],
   "source": [
    "from brainunit import Unit, get_or_create_dimension\n",
    "\n",
    "# Creating a basic unit: metre\n",
    "metre = Unit.create(get_or_create_dimension(m=1), \"metre\", \"m\")\n",
    "\n",
    "# Creating a basic unit: second\n",
    "second = Unit.create(get_or_create_dimension(s=1), \"second\", \"s\")\n",
    "\n",
    "metre, second"
   ]
  },
  {
   "cell_type": "markdown",
   "metadata": {},
   "source": [
    "Here, `get_or_create_dimension(m=1)` creates a dimension object representing length (meters), and `Unit.create` uses this dimension to create a unit named \"metre\" with a display name \"m\"."
   ]
  },
  {
   "cell_type": "markdown",
   "metadata": {},
   "source": [
    "##### Creating Compound Units\n",
    "Next, we create a compound unit, such as volt(metre ^ 2 * kilogram / (second ^ 3 * ampere)):"
   ]
  },
  {
   "cell_type": "code",
   "execution_count": 3,
   "metadata": {},
   "outputs": [
    {
     "data": {
      "text/plain": [
       "volt"
      ]
     },
     "execution_count": 3,
     "metadata": {},
     "output_type": "execute_result"
    }
   ],
   "source": [
    "volt = Unit.create(get_or_create_dimension(m=2, kg=1, s=-3, A=-1), \"volt\", \"V\")\n",
    "\n",
    "volt"
   ]
  },
  {
   "cell_type": "markdown",
   "metadata": {},
   "source": [
    "In this example, we define the dimensions for the compound unit and create a new unit named \"volt\" with the specified dimensions."
   ]
  },
  {
   "cell_type": "markdown",
   "metadata": {},
   "source": [
    "##### Creating Scaled Units\n",
    "Finally, we create a scaled version of a basic unit, such as kilometers (kilometre):"
   ]
  },
  {
   "cell_type": "code",
   "execution_count": 4,
   "metadata": {},
   "outputs": [
    {
     "data": {
      "text/plain": [
       "kmetre"
      ]
     },
     "execution_count": 4,
     "metadata": {},
     "output_type": "execute_result"
    }
   ],
   "source": [
    "kilometre = Unit.create_scaled_unit(metre, \"k\")\n",
    "\n",
    "kilometre"
   ]
  },
  {
   "cell_type": "code",
   "execution_count": 6,
   "metadata": {},
   "outputs": [
    {
     "data": {
      "text/plain": [
       "1000.0"
      ]
     },
     "execution_count": 6,
     "metadata": {},
     "output_type": "execute_result"
    }
   ],
   "source": [
    "1 * kilometre / (1 * metre)"
   ]
  },
  {
   "cell_type": "markdown",
   "metadata": {},
   "source": [
    "Here, `create_scaled_unit` creates a new unit named \"kilometre\" by scaling the base unit \"metre\" with a scale factor of \"k\" (kilo).\n",
    "\n",
    "The scale factor determines the prefix used for the unit, allowing for easy conversion between different scales of the same unit."
   ]
  }
 ],
 "metadata": {
  "kernelspec": {
   "display_name": "brainpy-dev",
   "language": "python",
   "name": "python3"
  },
  "language_info": {
   "codemirror_mode": {
    "name": "ipython",
    "version": 3
   },
   "file_extension": ".py",
   "mimetype": "text/x-python",
   "name": "python",
   "nbconvert_exporter": "python",
   "pygments_lexer": "ipython3",
   "version": "3.10.13"
  }
 },
 "nbformat": 4,
 "nbformat_minor": 2
}
