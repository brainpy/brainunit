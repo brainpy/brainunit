{
 "cells": [
  {
   "cell_type": "markdown",
   "metadata": {},
   "source": [
    "# Standard Units"
   ]
  },
  {
   "cell_type": "markdown",
   "metadata": {},
   "source": [
    "Standard units are defined in the `brainunit` package as object instances.\n",
    "\n",
    "All units are defined in terms of basic \"irreducible\" units. The irreducible units include:"
   ]
  },
  {
   "cell_type": "markdown",
   "metadata": {},
   "source": [
    "- Length (meter)\n",
    "- Time (second)\n",
    "- Mass (kilogram)\n",
    "- Current (ampere)\n",
    "- Temperature (Kelvin)\n",
    "- Luminous intensity (candela)\n",
    "- Amount of substance (mole)"
   ]
  },
  {
   "cell_type": "markdown",
   "metadata": {},
   "source": [
    "## Prefixs"
   ]
  },
  {
   "cell_type": "markdown",
   "metadata": {},
   "source": [
    "Most units can be used with prefixes, with both the standard [SI](https://www.bipm.org/documents/20126/41483022/SI-Brochure-9-EN.pdf) prefixes supported"
   ]
  },
  {
   "cell_type": "markdown",
   "metadata": {},
   "source": [
    "| Symbol |    Prefix   | Value |\n",
    "|--------|-------------|-------|\n",
    "|    Y   |    yotta-   |  1e24 |\n",
    "|    Z   |    zetta-   |  1e21 |\n",
    "|    E   |     exa-    |  1e18 |\n",
    "|    P   |    peta-    |  1e15 |\n",
    "|    T   |    tera-    |  1e12 |\n",
    "|    G   |    giga-    |  1e9  |\n",
    "|    M   |    mega-    |  1e6  |\n",
    "|    k   |    kilo-    |  1e3  |\n",
    "|    h   |    hecto-   |  1e2  |\n",
    "|   da   | deka-, deca |  1e1  |\n",
    "|    d   |    deci-    |  1e-1 |\n",
    "|    c   |    centi-   |  1e-2 |\n",
    "|    m   |    milli-   |  1e-3 |\n",
    "|    u   |    micro-   |  1e-6 |\n",
    "|    n   |    nano-    |  1e-9 |\n",
    "|    p   |    pico-    | 1e-12 |\n",
    "|    f   |    femto-   | 1e-15 |\n",
    "|    a   |    atto-    | 1e-18 |\n",
    "|    z   |    zepto-   | 1e-21 |\n",
    "|    y   |    yocto-   | 1e-24 |"
   ]
  }
 ],
 "metadata": {
  "language_info": {
   "name": "python"
  }
 },
 "nbformat": 4,
 "nbformat_minor": 2
}
