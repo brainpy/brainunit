{
 "cells": [
  {
   "cell_type": "markdown",
   "metadata": {},
   "source": [
    "# Combining, Defining, and Displaying Units"
   ]
  },
  {
   "cell_type": "markdown",
   "metadata": {},
   "source": [
    "## Basic example"
   ]
  },
  {
   "cell_type": "markdown",
   "metadata": {},
   "source": [
    "Units and quantities can be combined together using the regular Python numeric operators:"
   ]
  },
  {
   "cell_type": "code",
   "execution_count": 12,
   "metadata": {},
   "outputs": [
    {
     "data": {
      "text/plain": [
       "True"
      ]
     },
     "execution_count": 12,
     "metadata": {},
     "output_type": "execute_result"
    }
   ],
   "source": [
    "import brainunit as bu\n",
    "volt = bu.meter2 * bu.kilogram / (bu.second3 * bu.ampere)\n",
    "volt == bu.volt"
   ]
  },
  {
   "cell_type": "markdown",
   "metadata": {},
   "source": [
    "## Defining units"
   ]
  },
  {
   "cell_type": "markdown",
   "metadata": {},
   "source": [
    "Users are free to define new units, either fundamental or compound, using the `Unit.create` and  `Unit.create_scaled_unit` function:"
   ]
  },
  {
   "cell_type": "markdown",
   "metadata": {},
   "source": [
    "##### Creating Basic Units\n",
    "First, we create some basic units, such as meters (metre) and seconds (second):"
   ]
  },
  {
   "cell_type": "code",
   "execution_count": null,
   "metadata": {},
   "outputs": [
    {
     "data": {
      "text/plain": [
       "(metre, second)"
      ]
     },
     "metadata": {},
     "output_type": "display_data"
    }
   ],
   "source": [
    "from brainunit import Unit, get_or_create_dimension\n",
    "\n",
    "# Creating a basic unit: metre\n",
    "metre = Unit.create(get_or_create_dimension(m=1), \"metre\", \"m\")\n",
    "\n",
    "# Creating a basic unit: second\n",
    "second = Unit.create(get_or_create_dimension(s=1), \"second\", \"s\")\n",
    "\n",
    "metre, second"
   ]
  },
  {
   "cell_type": "markdown",
   "metadata": {},
   "source": [
    "Here, `get_or_create_dimension(m=1)` creates a dimension object representing length (meters), and `Unit.create` uses this dimension to create a unit named \"metre\" with a display name \"m\"."
   ]
  },
  {
   "cell_type": "markdown",
   "metadata": {},
   "source": [
    "##### Creating Compound Units\n",
    "Next, we create a compound unit, such as volt(metre ^ 2 * kilogram / (second ^ 3 * ampere)):"
   ]
  },
  {
   "cell_type": "code",
   "execution_count": null,
   "metadata": {},
   "outputs": [
    {
     "data": {
      "text/plain": [
       "volt"
      ]
     },
     "metadata": {},
     "output_type": "display_data"
    }
   ],
   "source": [
    "volt = Unit.create(get_or_create_dimension(m=2, kg=1, s=-3, A=-1), \"volt\", \"V\")\n",
    "\n",
    "volt"
   ]
  },
  {
   "cell_type": "markdown",
   "metadata": {},
   "source": [
    "In this example, we define the dimensions for the compound unit and create a new unit named \"volt\" with the specified dimensions."
   ]
  },
  {
   "cell_type": "markdown",
   "metadata": {},
   "source": [
    "##### Creating Scaled Units\n",
    "Finally, we create a scaled version of a basic unit, such as kilometers (kilometre):"
   ]
  },
  {
   "cell_type": "code",
   "execution_count": null,
   "metadata": {},
   "outputs": [
    {
     "data": {
      "text/plain": [
       "kmetre"
      ]
     },
     "metadata": {},
     "output_type": "display_data"
    }
   ],
   "source": [
    "kilometre = Unit.create_scaled_unit(metre, \"k\")\n",
    "\n",
    "kilometre"
   ]
  },
  {
   "cell_type": "code",
   "execution_count": null,
   "metadata": {},
   "outputs": [
    {
     "data": {
      "text/plain": [
       "1000.0"
      ]
     },
     "metadata": {},
     "output_type": "display_data"
    }
   ],
   "source": [
    "1 * kilometre / (1 * metre)"
   ]
  },
  {
   "cell_type": "markdown",
   "metadata": {},
   "source": [
    "Here, `create_scaled_unit` creates a new unit named \"kilometre\" by scaling the base unit \"metre\" with a scale factor of \"k\" (kilo).\n",
    "\n",
    "The scale factor determines the prefix used for the unit, allowing for easy conversion between different scales of the same unit."
   ]
  },
  {
   "cell_type": "markdown",
   "metadata": {},
   "source": [
    "## Displaying in JIT / grad / ... transformations"
   ]
  }
 ],
 "metadata": {
  "kernelspec": {
   "display_name": "Python 3",
   "language": "python",
   "name": "python3"
  },
  "language_info": {
   "codemirror_mode": {
    "name": "ipython",
    "version": 3
   },
   "file_extension": ".py",
   "mimetype": "text/x-python",
   "name": "python",
   "nbconvert_exporter": "python",
   "pygments_lexer": "ipython3",
   "version": "3.10.13"
  }
 },
 "nbformat": 4,
 "nbformat_minor": 2
}
