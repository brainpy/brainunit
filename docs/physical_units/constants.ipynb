{
 "cells": [
  {
   "cell_type": "markdown",
   "metadata": {},
   "source": [
    "# Constants"
   ]
  },
  {
   "cell_type": "markdown",
   "metadata": {},
   "source": [
    "## Introduction"
   ]
  },
  {
   "cell_type": "markdown",
   "metadata": {},
   "source": [
    "`brainunit` contains a number of physical constants."
   ]
  },
  {
   "cell_type": "markdown",
   "metadata": {},
   "source": [
    "## Getting Started"
   ]
  },
  {
   "cell_type": "markdown",
   "metadata": {},
   "source": [
    "You can import a Constant directly from the `brainunit` package:"
   ]
  },
  {
   "cell_type": "code",
   "execution_count": 4,
   "metadata": {},
   "outputs": [],
   "source": [
    "from brainunit import (\n",
    "  avogadro_constant,\n",
    "  boltzmann_constant,\n",
    "  electric_constant,\n",
    "  electron_mass,\n",
    "  elementary_charge,\n",
    "  faraday_constant,\n",
    "  gas_constant,\n",
    "  magnetic_constant,\n",
    "  molar_mass_constant,\n",
    "  zero_celsius,\n",
    ")\n",
    "\n",
    "constants = [avogadro_constant, boltzmann_constant, electric_constant, electron_mass, elementary_charge,\n",
    "             faraday_constant, gas_constant, magnetic_constant, molar_mass_constant, zero_celsius]"
   ]
  },
  {
   "cell_type": "code",
   "execution_count": 5,
   "metadata": {},
   "outputs": [
    {
     "name": "stdout",
     "output_type": "stream",
     "text": [
      "6.022141e+23 mol^-1\n",
      "1.3806486e-23 J/K\n",
      "8.854188e-12 F/m\n",
      "0.00091094 yg\n",
      "160.21766663 zC\n",
      "96485.3359375 s A mol^-1\n",
      "8.3144598 J/(mol * K)\n",
      "1.256637e-06 H/m\n",
      "0.001 kg mol^-1\n",
      "273.1499939 K\n"
     ]
    }
   ],
   "source": [
    "for constant in constants:\n",
    "    print(constant)"
   ]
  }
 ],
 "metadata": {
  "kernelspec": {
   "display_name": "brainpy-dev",
   "language": "python",
   "name": "python3"
  },
  "language_info": {
   "codemirror_mode": {
    "name": "ipython",
    "version": 3
   },
   "file_extension": ".py",
   "mimetype": "text/x-python",
   "name": "python",
   "nbconvert_exporter": "python",
   "pygments_lexer": "ipython3",
   "version": "3.10.13"
  }
 },
 "nbformat": 4,
 "nbformat_minor": 2
}
